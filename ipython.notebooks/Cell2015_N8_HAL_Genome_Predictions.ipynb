{
 "cells": [
  {
   "cell_type": "code",
   "execution_count": 1,
   "metadata": {
    "collapsed": false
   },
   "outputs": [
    {
     "name": "stderr",
     "output_type": "stream",
     "text": [
      "/net/gs/vol3/software/modules-sw-python/2.7.3/pandas/0.14.0/Linux/RHEL6/x86_64/lib/python2.7/site-packages/pandas/io/excel.py:626: UserWarning: Installed openpyxl is not supported at this time. Use >=1.6.1 and <2.0.0.\n",
      "  .format(openpyxl_compat.start_ver, openpyxl_compat.stop_ver))\n"
     ]
    }
   ],
   "source": [
    "import pandas as pd\n",
    "import numpy as np\n",
    "import scipy\n",
    "import scipy.sparse\n",
    "import scipy.stats\n",
    "import os\n",
    "import scipy.io as sio\n",
    "import dnatools\n",
    "%matplotlib inline\n",
    "from pylab import *\n",
    "\n",
    "# Plotting Params:\n",
    "rc('mathtext', default='regular')\n",
    "fsize=14\n"
   ]
  },
  {
   "cell_type": "markdown",
   "metadata": {},
   "source": [
    "### Make directory to save results:"
   ]
  },
  {
   "cell_type": "code",
   "execution_count": 2,
   "metadata": {
    "collapsed": false
   },
   "outputs": [],
   "source": [
    "resultsdir = '../results/N8_HAL_Genome_Predictions/'\n",
    "if not os.path.exists(resultsdir):\n",
    "    os.makedirs(resultsdir)\n",
    "figdir = '../figures/N8_HAL_Genome_Predictions/'\n",
    "if not os.path.exists(figdir):\n",
    "    os.makedirs(figdir)\n",
    "    \n",
    "#Choose if you want to actually save the plots:\n",
    "SAVEFIGS = True"
   ]
  },
  {
   "cell_type": "markdown",
   "metadata": {},
   "source": [
    "### Load other splice site models:"
   ]
  },
  {
   "cell_type": "code",
   "execution_count": 3,
   "metadata": {
    "collapsed": false
   },
   "outputs": [],
   "source": [
    "f = open('../ref/MAXENT_ALL_SD.txt')\n",
    "all_ss_scores = {'MAXENT':{},\n",
    "                 'MDD':{},\n",
    "                 'MM':{},\n",
    "                 'WMM':{}\n",
    "                 }\n",
    "while True:\n",
    "    line =  f.readline()[:-1]\n",
    "    line =  f.readline()[:-1]\n",
    "    if len(line)==0:\n",
    "        break\n",
    "    all_ss_scores['MAXENT'][line.split('\\t')[0]] = float(line.split('\\t')[1][8:])\n",
    "    all_ss_scores['MDD'][line.split('\\t')[0]] = float(line.split('\\t')[2][5:])\n",
    "    all_ss_scores['MM'][line.split('\\t')[0]] = float(line.split('\\t')[3][4:])\n",
    "    all_ss_scores['WMM'][line.split('\\t')[0]] = float(line.split('\\t')[4][5:])\n",
    "f.close()\n",
    "\n",
    "def score_ss(seq,ss_scores):\n",
    "    return -ss_scores[seq[198:198+9]]+ss_scores[seq[-203:-203+9]]"
   ]
  },
  {
   "cell_type": "markdown",
   "metadata": {},
   "source": [
    "### Load HAL:"
   ]
  },
  {
   "cell_type": "code",
   "execution_count": 4,
   "metadata": {
    "collapsed": false
   },
   "outputs": [],
   "source": [
    "data = sio.loadmat('../results/N7_A5SS_Model_Predictions/model_full_data.mat')\n",
    "w = data['Mer_scores'][:4**6*8]\n",
    "mer6_dict = dict(zip(dnatools.make_mer_list(6),range(4**6)))\n",
    "w_mat = w.reshape(4**6,size(w)/4**6)\n",
    "logit = lambda x: log(x)-log(1-x)\n",
    "expit = lambda x: 1./(1.+exp(-x))\n",
    "\n",
    "def score_seq_pos(seq):\n",
    "    seq_scores = np.zeros(160)\n",
    "    for b in range(40):\n",
    "        seq_scores[b:b+6] += w_mat[mer6_dict[seq[b:b+6]],0]/6.\n",
    "    for b in range(40,70):\n",
    "        seq_scores[b:b+6] += w_mat[mer6_dict[seq[b:b+6]],1]/6.\n",
    "    for b in [77]:\n",
    "        seq_scores[b:b+6] += w_mat[mer6_dict[seq[b:b+6]],2]/6.\n",
    "    for b in [78]:\n",
    "        seq_scores[b:b+6] += w_mat[mer6_dict[seq[b:b+6]],3]/6.\n",
    "    for b in [79]:\n",
    "        seq_scores[b:b+6] += w_mat[mer6_dict[seq[b:b+6]],4]/6.\n",
    "    for b in [80]:\n",
    "        seq_scores[b:b+6] += w_mat[mer6_dict[seq[b:b+6]],5]/6.\n",
    "    for b in range(86,120-5):\n",
    "        seq_scores[b:b+6] += w_mat[mer6_dict[seq[b:b+6]],6]/6.\n",
    "    for b in range(115,155):\n",
    "        seq_scores[b:b+6] += w_mat[mer6_dict[seq[b:b+6]],7]/6.\n",
    "    return seq_scores\n",
    "\n",
    "def predict_prob(seq):\n",
    "    sd1_score = sum(score_seq_pos(seq[201-80:201+80]))\n",
    "    sd2_score = sum(score_seq_pos(seq[-200-80:-200+80]))\n",
    "    return sd2_score-sd1_score"
   ]
  },
  {
   "cell_type": "markdown",
   "metadata": {},
   "source": [
    "### Load SNP data:"
   ]
  },
  {
   "cell_type": "code",
   "execution_count": 5,
   "metadata": {
    "collapsed": false
   },
   "outputs": [],
   "source": [
    "A5SS_data = pd.read_csv(resultsdir+'A5SS_Miso_events.csv',index_col=0)"
   ]
  },
  {
   "cell_type": "markdown",
   "metadata": {},
   "source": [
    "### Only include Events Found in 10 Samples"
   ]
  },
  {
   "cell_type": "code",
   "execution_count": 6,
   "metadata": {
    "collapsed": false
   },
   "outputs": [],
   "source": [
    "A5SS_data_filtered = A5SS_data[A5SS_data.sample_num>=10]"
   ]
  },
  {
   "cell_type": "code",
   "execution_count": 7,
   "metadata": {
    "collapsed": false
   },
   "outputs": [],
   "source": [
    "preds_comp = {}\n",
    "preds_comp['HAL'] = expit(A5SS_data_filtered['Seqs'].apply(predict_prob))\n",
    "for alg in all_ss_scores.keys():\n",
    "    preds_comp['$\\Delta$'+alg] = A5SS_data_filtered['Seqs'].apply(lambda s:score_ss(s,all_ss_scores[alg]))"
   ]
  },
  {
   "cell_type": "code",
   "execution_count": 8,
   "metadata": {
    "collapsed": false
   },
   "outputs": [],
   "source": [
    "prediction_df = pd.DataFrame(preds_comp).join(A5SS_data_filtered)"
   ]
  },
  {
   "cell_type": "code",
   "execution_count": 9,
   "metadata": {
    "collapsed": false
   },
   "outputs": [],
   "source": [
    "prediction_df[[u'sample_num',\n",
    "                     u'miso_posterior_mean',\n",
    "                     u'ci_low',\n",
    "                     u'ci_high',\n",
    "                     u'HAL',\n",
    "                     u'$\\Delta$MAXENT',\n",
    "                     u'$\\Delta$MDD',\n",
    "                     u'$\\Delta$MM',\n",
    "                     u'$\\Delta$WMM',\n",
    "                    ]].to_csv(resultsdir+'A5SS_MISO_Event_Predictions.csv')"
   ]
  },
  {
   "cell_type": "code",
   "execution_count": 10,
   "metadata": {
    "collapsed": false
   },
   "outputs": [
    {
     "name": "stderr",
     "output_type": "stream",
     "text": [
      "/net/shendure/vol1/home/abros/VirtualEnvs/analysisenv/lib/python2.7/site-packages/ipykernel/__main__.py:4: DeprecationWarning: using a non-integer number instead of an integer will result in an error in the future\n"
     ]
    }
   ],
   "source": [
    "dists = A5SS_data_filtered.Seqs.apply(len).order()-400\n",
    "bin_edges = []\n",
    "for i in arange(0,1.0,0.2):\n",
    "    bin_edges.append(dists.values[np.round(i*len(dists))])\n",
    "bin_edges.append(5000)"
   ]
  },
  {
   "cell_type": "code",
   "execution_count": 11,
   "metadata": {
    "collapsed": false
   },
   "outputs": [],
   "source": [
    "dist_strs = []\n",
    "preds_r2 = []\n",
    "ss_compar_r2 = {}\n",
    "for alg in preds_comp.keys():\n",
    "    ss_compar_r2[alg]=[]\n",
    "\n",
    "\n",
    "for i in range(5):\n",
    "    dist_strs.append(str(bin_edges[i])+'-'+str(bin_edges[i+1]-1))\n",
    "    events = A5SS_data_filtered[((A5SS_data_filtered.Seqs.apply(len)-400)>=bin_edges[i]) & ((A5SS_data_filtered.Seqs.apply(len)-400)<bin_edges[i+1])].index\n",
    "    for alg in preds_comp.keys():\n",
    "        ss_compar_r2[alg].append(scipy.stats.pearsonr(preds_comp[alg][events],A5SS_data_filtered.miso_posterior_mean[events])[0]**2)\n",
    "    #preds_r2.append(scipy.stats.pearsonr(expit(preds[events]),A5SS_data_filtered.miso_posterior_mean[events])[0]**2)\n",
    "    \n",
    "#ss_compar_r2['HAL'] = preds_r2"
   ]
  },
  {
   "cell_type": "code",
   "execution_count": 12,
   "metadata": {
    "collapsed": false
   },
   "outputs": [
    {
     "data": {
      "image/png": "[encoded data removed]",
      "text/plain": [
       "<matplotlib.figure.Figure at 0xa82bcd0>"
      ]
     },
     "metadata": {},
     "output_type": "display_data"
    }
   ],
   "source": [
    "fig = figure()\n",
    "ax = fig.add_subplot(111)\n",
    "dist_pred_df = pd.DataFrame(ss_compar_r2)\n",
    "dist_pred_df.index=dist_strs\n",
    "dist_pred_df.iloc[:,[4,0,1,2,3]].plot(ax=ax,kind='bar')\n",
    "ax.tick_params(labelsize=fsize)\n",
    "ax.set_xlabel('Distance Between Alternative Splice Donors (nt)',fontsize=fsize)\n",
    "ax.set_ylabel('$R^2$',fontsize=fsize)\n",
    "ax.set_title(\"Predicting 5' Splice Site Usage\\n in the Human Transcriptome (6152 Events)\",fontsize=14)\n",
    "ax.set_xticklabels(dist_pred_df.index.values,rotation=30)\n",
    "leg = ax.legend(fontsize=fsize)\n",
    "if SAVEFIGS:\n",
    "    figname = 'HAL_A5SS_comparisons_grouped_by_distance'\n",
    "    fig.savefig(figdir+figname+'.pdf',dpi=300,bbox_inches='tight')\n",
    "    fig.savefig(figdir+figname+'.eps',dpi=300,bbox_inches='tight')\n",
    "    fig.savefig(figdir+figname+'.png',dpi=300,bbox_inches='tight')\n"
   ]
  },
  {
   "cell_type": "code",
   "execution_count": 13,
   "metadata": {
    "collapsed": false
   },
   "outputs": [
    {
     "data": {
      "text/plain": [
       "6152"
      ]
     },
     "execution_count": 13,
     "metadata": {},
     "output_type": "execute_result"
    }
   ],
   "source": [
    "len(A5SS_data_filtered)"
   ]
  }
 ],
 "metadata": {
  "kernelspec": {
   "display_name": "Python 2",
   "language": "python",
   "name": "python2"
  },
  "language_info": {
   "codemirror_mode": {
    "name": "ipython",
    "version": 2
   },
   "file_extension": ".py",
   "mimetype": "text/x-python",
   "name": "python",
   "nbconvert_exporter": "python",
   "pygments_lexer": "ipython2",
   "version": "2.7.3"
  }
 },
 "nbformat": 4,
 "nbformat_minor": 0
}
