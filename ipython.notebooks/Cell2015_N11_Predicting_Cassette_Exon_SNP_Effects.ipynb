{
 "cells": [
  {
   "cell_type": "code",
   "execution_count": 1,
   "metadata": {
    "collapsed": false
   },
   "outputs": [
    {
     "name": "stderr",
     "output_type": "stream",
     "text": [
      "/net/gs/vol3/software/modules-sw-python/2.7.3/pandas/0.14.0/Linux/RHEL6/x86_64/lib/python2.7/site-packages/pandas/io/excel.py:626: UserWarning: Installed openpyxl is not supported at this time. Use >=1.6.1 and <2.0.0.\n",
      "  .format(openpyxl_compat.start_ver, openpyxl_compat.stop_ver))\n"
     ]
    }
   ],
   "source": [
    "import pandas as pd\n",
    "import numpy as np\n",
    "import scipy\n",
    "import scipy.sparse\n",
    "import scipy.stats\n",
    "import os\n",
    "import scipy.io as sio\n",
    "import dnatools\n",
    "%matplotlib inline\n",
    "from pylab import *\n",
    "\n",
    "# Plotting Params:\n",
    "rc('mathtext', default='regular')\n",
    "fsize=14\n"
   ]
  },
  {
   "cell_type": "markdown",
   "metadata": {},
   "source": [
    "### Make directory to save results:"
   ]
  },
  {
   "cell_type": "code",
   "execution_count": 2,
   "metadata": {
    "collapsed": false
   },
   "outputs": [],
   "source": [
    "resultsdir = '../results/N11_Predicting_Cassette_Exon_SNP_Effects/'\n",
    "if not os.path.exists(resultsdir):\n",
    "    os.makedirs(resultsdir)\n",
    "figdir = '../figures/N11_Predicting_Cassette_Exon_SNP_Effects/'\n",
    "if not os.path.exists(figdir):\n",
    "    os.makedirs(figdir)\n",
    "    \n",
    "#Choose if you want to actually save the plots:\n",
    "SAVEFIGS = True"
   ]
  },
  {
   "cell_type": "markdown",
   "metadata": {},
   "source": [
    "### Load Models:"
   ]
  },
  {
   "cell_type": "code",
   "execution_count": 3,
   "metadata": {
    "collapsed": false
   },
   "outputs": [],
   "source": [
    "# Load Splice Site Model\n",
    "data = sio.loadmat('../results/N7_A5SS_Model_Predictions/model_full_data.mat')\n",
    "sd_scores = pd.DataFrame(index=dnatools.make_mer_list(6),data=data['Mer_scores'][:4**6*8].reshape(4**6,8)[:,2:6])\n",
    "exonic_acceptor_scores = pd.read_pickle('../results/N9_Training_Joint_A5SS_A3SS_Model/exonic_acceptor_scores.series')\n",
    "exonic_mer6_scores = pd.read_pickle('../results/N9_Training_Joint_A5SS_A3SS_Model/exonic_mer6_scores.series')\n",
    "logit = lambda x: log(x)-log(1-x)\n",
    "expit = lambda x: 1./(1.+exp(-x))\n",
    "\n",
    "def score_seq(seq,mer_scores,mult_factor):\n",
    "    score = 0.\n",
    "    score += exonic_acceptor_scores.ix[seq[:3]]*mult_factor\n",
    "    for b in range(len(seq)-5-6-3):\n",
    "        score += mer_scores[seq[b:b+6]]*mult_factor\n",
    "    # Score the SD:\n",
    "    for b in range(3):\n",
    "        score += sd_scores.ix[seq[len(seq)-9+b:len(seq)-9+6+b],b]*mult_factor\n",
    "    return score"
   ]
  },
  {
   "cell_type": "code",
   "execution_count": 4,
   "metadata": {
    "collapsed": false
   },
   "outputs": [],
   "source": [
    "def make_exon_skipping_predictions(df,exon_seqs,mult_factor=None):\n",
    "    if mult_factor==None:\n",
    "        mult_factor = np.ones(len(df))*2.\n",
    "    pred_psi = []\n",
    "    SNP = []\n",
    "    for i in range(len(df)):\n",
    "        pos = int(df.POS.iloc[i])-1\n",
    "        mut_seq = exon_seqs[df.Gene.iloc[i]][:pos] + df.ALT.iloc[i]+exon_seqs[df.Gene.iloc[i]][len(df.REF.iloc[i])+pos:]\n",
    "        ref_seq = exon_seqs[df.Gene.iloc[i]][:pos] + df.REF.iloc[i]+exon_seqs[df.Gene.iloc[i]][len(df.REF.iloc[i])+pos:]\n",
    "        if(dnatools.hamdist(mut_seq,ref_seq)==1):\n",
    "            SNP.append(True)\n",
    "        else:\n",
    "            SNP.append(False)\n",
    "        mut_score = score_seq(mut_seq,exonic_mer6_scores,mult_factor[i])\n",
    "        ref_score = score_seq(ref_seq,exonic_mer6_scores,mult_factor[i])\n",
    "        pred_psi.append(expit(logit(df.REF_PSI.iloc[i]/100.)+mut_score-ref_score))\n",
    "    df['PSI_PRED'] = pred_psi\n",
    "    df['SNP'] = SNP\n",
    "    df['DPSI'] = (df.ALT_PSI-df.REF_PSI)/100.\n",
    "    df['DPSI_PRED'] = df.PSI_PRED-df.REF_PSI/100.\n",
    "    return df"
   ]
  },
  {
   "cell_type": "markdown",
   "metadata": {},
   "source": [
    "### Load exon skipping variant data"
   ]
  },
  {
   "cell_type": "markdown",
   "metadata": {},
   "source": [
    "#### SMN2"
   ]
  },
  {
   "cell_type": "code",
   "execution_count": 5,
   "metadata": {
    "collapsed": false
   },
   "outputs": [],
   "source": [
    "SMN2_exon = 'GGTTTTAGACAAAATCAAAAAGAAGGAAGGTGCTCACATTCCTTAAATTAAGGAGTAAGT'\n",
    "SMN2_full_seq = 'aacttcctttattttccttacag'+SMN2_exon[:-6]+'gtaagtctgcc'\n",
    "SMN2_variants = pd.read_csv('../ref/SMN2_variants.tsv',sep='\\t',skiprows=4)\n",
    "SMN2_variants['Gene'] = 'SMN1/2'"
   ]
  },
  {
   "cell_type": "markdown",
   "metadata": {},
   "source": [
    "#### CFTR"
   ]
  },
  {
   "cell_type": "code",
   "execution_count": 6,
   "metadata": {
    "collapsed": false
   },
   "outputs": [],
   "source": [
    "CFTR_exon = 'agcagtatacaaagatgctgatttgtatttattagactctccttttggatacctagatgttttaacagaaaaagaaatatttgaaagGTATGT'.upper()\n",
    "CFTR_full_seq = 'ccattttctttttagAGCAGTATACAAAGATGCTGATTTGTATTTATTAGACTCTCCTTTTGGATACCTAGATGTTTTAACAGAAAAAGAAATATTTGAAAGgtatgttctttgaat'\n",
    "CFTR_variants = pd.read_csv('../ref/CFTR_variants.tsv',sep='\\t',skiprows=1)\n",
    "CFTR_variants['Gene'] = 'CFTR'"
   ]
  },
  {
   "cell_type": "markdown",
   "metadata": {},
   "source": [
    "#### BRCA2"
   ]
  },
  {
   "cell_type": "code",
   "execution_count": 7,
   "metadata": {
    "collapsed": false
   },
   "outputs": [],
   "source": [
    "BRCA2_exon7 = 'GGTCGTCAGACACCAAAACATATTTCTGAAAGTCTAGGAGCTGAGGTGGATCCTGATATGTCTTGGTCAAGTTCTTTAGCTACACCACCCACCCTTAGTTCTACTGTGCTCATAGgtaata'.upper()\n",
    "BRCA2_full_seq = 'tttctttcctcccagGGTCGTCAGACACCAAAACATATTTCTGAAAGTCTAGGAGCTGAGGTGGATCCTGATATGTCTTGGTCAAGTTCTTTAGCTACACCACCCACCCTTAGTTCTACTGTGCTCATAGgtaataatagcaaat'\n",
    "BRCA2_variants = pd.read_csv('../ref/BRCA2_variants.csv',skiprows=1).fillna('')\n",
    "BRCA2_variants['Gene'] = 'BRCA2'"
   ]
  },
  {
   "cell_type": "markdown",
   "metadata": {},
   "source": [
    "### Make cross validation indices"
   ]
  },
  {
   "cell_type": "code",
   "execution_count": 8,
   "metadata": {
    "collapsed": false
   },
   "outputs": [],
   "source": [
    "df = pd.concat((SMN2_variants,CFTR_variants,BRCA2_variants))\n",
    "df = df[pd.notnull(df.ALT_PSI)].reset_index(drop=True)\n",
    "exon_seqs = {'SMN1/2':SMN2_exon,\n",
    "             'CFTR':CFTR_exon,\n",
    "             'BRCA2':BRCA2_exon7}\n",
    "#cross_val_inds = range(len(df))\n",
    "#shuffle(cross_val_inds)\n",
    "#cross_val_inds = np.array(cross_val_inds)\n",
    "#np.save(resultsdir+'Cross_val_inds',cross_val_inds)\n",
    "cross_val_inds = np.load(resultsdir+'Cross_val_inds.npy')"
   ]
  },
  {
   "cell_type": "markdown",
   "metadata": {},
   "source": [
    "We will test scaling factors between 0.5 and 4"
   ]
  },
  {
   "cell_type": "code",
   "execution_count": 9,
   "metadata": {
    "collapsed": false
   },
   "outputs": [],
   "source": [
    "def optimize_scaling_factor(df):\n",
    "    scaling_factors = {}\n",
    "    for i in arange(1,4,0.1):\n",
    "        df = make_exon_skipping_predictions(df,exon_seqs,mult_factor=np.ones(len(df))*i)\n",
    "        scaling_factors[i] = sum((df.DPSI_PRED-df.DPSI)**2)\n",
    "    scaling_factors = pd.Series(scaling_factors)\n",
    "    return scaling_factors.argmin()"
   ]
  },
  {
   "cell_type": "code",
   "execution_count": 10,
   "metadata": {
    "collapsed": false
   },
   "outputs": [
    {
     "name": "stderr",
     "output_type": "stream",
     "text": [
      "/net/shendure/vol1/home/abros/VirtualEnvs/analysisenv/lib/python2.7/site-packages/ipykernel/__main__.py:4: DeprecationWarning: using a non-integer number instead of an integer will result in an error in the future\n",
      "/net/shendure/vol1/home/abros/VirtualEnvs/analysisenv/lib/python2.7/site-packages/ipykernel/__main__.py:17: SettingWithCopyWarning: A value is trying to be set on a copy of a slice from a DataFrame.\n",
      "Try using .loc[row_index,col_indexer] = value instead\n"
     ]
    },
    {
     "name": "stdout",
     "output_type": "stream",
     "text": [
      "0 1 2 3 4 5 6 7 8 9\n"
     ]
    },
    {
     "name": "stderr",
     "output_type": "stream",
     "text": [
      "/net/shendure/vol1/home/abros/VirtualEnvs/analysisenv/lib/python2.7/site-packages/ipykernel/__main__.py:18: SettingWithCopyWarning: A value is trying to be set on a copy of a slice from a DataFrame.\n",
      "Try using .loc[row_index,col_indexer] = value instead\n",
      "/net/shendure/vol1/home/abros/VirtualEnvs/analysisenv/lib/python2.7/site-packages/ipykernel/__main__.py:19: SettingWithCopyWarning: A value is trying to be set on a copy of a slice from a DataFrame.\n",
      "Try using .loc[row_index,col_indexer] = value instead\n",
      "/net/shendure/vol1/home/abros/VirtualEnvs/analysisenv/lib/python2.7/site-packages/ipykernel/__main__.py:20: SettingWithCopyWarning: A value is trying to be set on a copy of a slice from a DataFrame.\n",
      "Try using .loc[row_index,col_indexer] = value instead\n"
     ]
    }
   ],
   "source": [
    "cross_validated_scaling_factors = np.ones(len(df))\n",
    "cross_val_group_size = len(df)/10.\n",
    "for i in range(10):\n",
    "    test_inds = cross_val_inds[cross_val_group_size*i:cross_val_group_size*(i+1)]\n",
    "    training_inds = np.array(list(set(range(len(df)))-set(test_inds)))\n",
    "    training_set = df.iloc[training_inds]\n",
    "    cross_validated_scaling_factors[test_inds] = optimize_scaling_factor(training_set)\n",
    "    print i,"
   ]
  },
  {
   "cell_type": "markdown",
   "metadata": {},
   "source": [
    "Make predictions with the scaling factor for the heldout variants."
   ]
  },
  {
   "cell_type": "code",
   "execution_count": 11,
   "metadata": {
    "collapsed": false
   },
   "outputs": [
    {
     "data": {
      "text/plain": [
       "0.60862358629167279"
      ]
     },
     "execution_count": 11,
     "metadata": {},
     "output_type": "execute_result"
    }
   ],
   "source": [
    "df = make_exon_skipping_predictions(df,exon_seqs,mult_factor=cross_validated_scaling_factors)\n",
    "scipy.stats.pearsonr(df.DPSI_PRED,df.DPSI)[0]**2"
   ]
  },
  {
   "cell_type": "code",
   "execution_count": 12,
   "metadata": {
    "collapsed": false
   },
   "outputs": [],
   "source": [
    "df2write = df.copy(deep=True)\n",
    "# Convert percent to fraction\n",
    "df2write['REF_PSI'] = df2write['REF_PSI']/100.\n",
    "df2write['ALT_PSI'] = df2write['ALT_PSI']/100.\n",
    "\n",
    "# Add Spanr predictions for the snps\n",
    "SNPs = df[(~((df.Gene=='SMN1/2')&(df.REF_PSI>50)))&df.SNP]\n",
    "BRCA2_SNPS = SNPs[SNPs.Gene=='BRCA2']\n",
    "SMN2_SNPs = SNPs[SNPs.Gene=='SMN1/2']\n",
    "CFTR_SNPs = SNPs[SNPs.Gene=='CFTR']\n",
    "\n",
    "BRCA2_SPANR = pd.read_csv('../ref/BRCA2_variants_SPANR.tsv',sep='\\t',skiprows=4)\n",
    "CFTR_SPANR = pd.read_csv('../ref/CFTR_variants_SPANR.tsv',sep='\\t',skiprows=4)\n",
    "SMN2_SPANR = pd.read_csv('../ref/SMN2_variants_SPANR.tsv',sep='\\t',skiprows=4)\n",
    "# Only look at NM_017411\n",
    "SMN2_SPANR = SMN2_SPANR[SMN2_SPANR.transcript.str.contains('NM_022876')]\n",
    "\n",
    "df2write.ix[SMN2_SNPs.index,'SPANR_dPSI'] = SMN2_SPANR.dPSI.values/100.\n",
    "df2write.ix[CFTR_SNPs.index,'SPANR_dPSI'] = CFTR_SPANR.dPSI.values/100.\n",
    "df2write.ix[BRCA2_SNPS.index,'SPANR_dPSI'] = BRCA2_SPANR.dPSI.values/100.\n",
    "\n",
    "# References:\n",
    "references = \"\"\"# Ref 1: An extended inhibitory context causes skipping of exon 7 of SMN2 in spinal muscular atrophy\n",
    "# Ref 2: In vivo selection reveals combinatorial controls that define a critical exon in the spinal muscular atrophy genes\n",
    "# Ref 3: Modulating role of RNA structure in alternative splicing of a critical exon in the spinal muscular atrophy genes\n",
    "# Ref 4: Determinants of Exon 7 Splicing in the Spinal Muscular Atrophy Genes SMN1 and SMN2\n",
    "# Ref 5: Synonymous mutations in CFTR exon 12 affect splicing and are not neutral in evolution.\n",
    "# Ref 6: Functional Analysis of a Large set of BRCA2 exon 7 Variants Highlights the Predictive Value of Hexamer Scores in Detecting Alterations of Exonic Splicing Regulatory Elements\n",
    "\"\"\"\n",
    "\n",
    "# Write references to a file \n",
    "with open(resultsdir+'Exon_Skipping_Variant_SNP_Prediction.csv','w') as f:\n",
    "    f.write(references)\n",
    "df2write[['Gene','POS','REF','ALT','REF_PSI','ALT_PSI',\n",
    "          'DPSI','DPSI_PRED','DIR_DPSI','PSI_PRED',\n",
    "          'SPANR_dPSI','SNP','ARTICLE']].to_csv(resultsdir+'Exon_Skipping_Variant_SNP_Prediction.csv',mode='a')"
   ]
  },
  {
   "cell_type": "code",
   "execution_count": 13,
   "metadata": {
    "collapsed": false
   },
   "outputs": [
    {
     "name": "stdout",
     "output_type": "stream",
     "text": [
      "(0.80380275919367694, 1.1721153176468875e-30)\n",
      "(0.77209750177606373, 2.5594463592896367e-05)\n",
      "(0.81707261309592838, 3.9147715391293921e-10)\n"
     ]
    },
    {
     "data": {
      "image/png": "[encoded data removed]",
      "text/plain": [
       "<matplotlib.figure.Figure at 0x5565110>"
      ]
     },
     "metadata": {},
     "output_type": "display_data"
    }
   ],
   "source": [
    "fig = figure(figsize=(4,4))\n",
    "ax = fig.add_subplot(111)\n",
    "colors = ['r','limegreen','b']\n",
    "i=0\n",
    "for gene in df.Gene.unique():\n",
    "    cur_df = df[df.Gene==gene]\n",
    "    r2 = scipy.stats.pearsonr(cur_df.DPSI_PRED[pd.notnull(cur_df.DPSI)],cur_df.DPSI[pd.notnull(cur_df.DPSI)])[0]**2\n",
    "    ax.scatter(cur_df.DPSI_PRED,cur_df.DPSI,label=gene+' ($R^2$=%0.2f)' %r2,c=colors[i],edgecolor='None')\n",
    "    print scipy.stats.pearsonr(cur_df.DPSI_PRED[pd.notnull(cur_df.DPSI)],cur_df.DPSI[pd.notnull(cur_df.DPSI)])\n",
    "    i+=1\n",
    "ax.axhline(y=0,c='k')\n",
    "ax.axvline(x=0,c='k')\n",
    "ax.axis([-1,1,-1,1]);\n",
    "leg = ax.legend(scatterpoints=1,bbox_to_anchor=(1.72,1),fontsize=fsize,handletextpad=-0.3)\n",
    "leg.get_frame().set_alpha(0)\n",
    "ax.axis([-1.1,1.1,-1.1,1.1])\n",
    "ax.tick_params(labelsize=fsize)\n",
    "ax.set_xlabel('Predicted $\\Delta PSI$',fontsize=fsize)\n",
    "ax.set_ylabel('Measured $\\Delta PSI$ (RT-PCR)',fontsize=fsize)\n",
    "\n",
    "r2 = scipy.stats.pearsonr(df.DPSI_PRED[pd.notnull(df.DPSI)],\n",
    "                           df.DPSI[pd.notnull(df.DPSI)])[0]**2\n",
    "\n",
    "ax.text(-0.9,0.8,'$R^2=%0.2f$'%r2,fontsize=fsize)\n",
    "ax.spines['bottom'].set_visible(False)\n",
    "ax.spines['left'].set_visible(False)\n",
    "ax.spines['top'].set_visible(False)\n",
    "ax.spines['right'].set_visible(False)\n",
    "ax.tick_params(size=0)\n",
    "\n",
    "if SAVEFIGS:\n",
    "    figname = 'Scatter_predictions_all'\n",
    "    fig.savefig(figdir+figname+'.pdf',dpi=300,bbox_inches='tight')\n",
    "    fig.savefig(figdir+figname+'.eps',dpi=300,bbox_inches='tight')\n",
    "    fig.savefig(figdir+figname+'.png',dpi=300,bbox_inches='tight')"
   ]
  },
  {
   "cell_type": "markdown",
   "metadata": {},
   "source": [
    "Make a smaller plot for Figure 1:"
   ]
  },
  {
   "cell_type": "code",
   "execution_count": 14,
   "metadata": {
    "collapsed": false
   },
   "outputs": [
    {
     "name": "stdout",
     "output_type": "stream",
     "text": [
      "(0.80380275919367694, 1.1721153176468875e-30)\n",
      "(0.77209750177606373, 2.5594463592896367e-05)\n",
      "(0.81707261309592838, 3.9147715391293921e-10)\n"
     ]
    },
    {
     "data": {
      "image/png": "[encoded data removed]",
      "text/plain": [
       "<matplotlib.figure.Figure at 0x5830510>"
      ]
     },
     "metadata": {},
     "output_type": "display_data"
    }
   ],
   "source": [
    "fig = figure(figsize=(3,3))\n",
    "ax = fig.add_subplot(111)\n",
    "colors = ['r','limegreen','b']\n",
    "i=0\n",
    "for gene in df.Gene.unique():\n",
    "    cur_df = df[df.Gene==gene]\n",
    "    r2 = scipy.stats.pearsonr(cur_df.DPSI_PRED[pd.notnull(cur_df.DPSI)],cur_df.DPSI[pd.notnull(cur_df.DPSI)])[0]**2\n",
    "    ax.scatter(cur_df.DPSI_PRED,cur_df.DPSI,label=gene,c=colors[i],edgecolor='None')\n",
    "    print scipy.stats.pearsonr(cur_df.DPSI_PRED[pd.notnull(cur_df.DPSI)],cur_df.DPSI[pd.notnull(cur_df.DPSI)])\n",
    "    i+=1\n",
    "ax.axhline(y=0,c='k')\n",
    "ax.axvline(x=0,c='k')\n",
    "ax.axis([-1,1,-1,1]);\n",
    "leg = ax.legend(scatterpoints=1,bbox_to_anchor=(0.5,1.08),fontsize=fsize,handletextpad=-0.3)\n",
    "leg.get_frame().set_alpha(0)\n",
    "ax.axis([-1.1,1.1,-1.1,1.1])\n",
    "ax.set_xticks(arange(-1,1.01,1))\n",
    "ax.set_yticks(arange(-1,1.01,1))\n",
    "ax.set_xticklabels([])\n",
    "ax.set_yticklabels([])\n",
    "\n",
    "ax.tick_params(labelsize=fsize)\n",
    "ax.set_xlabel('Predictions',fontsize=fsize)\n",
    "ax.set_ylabel('Data',fontsize=fsize)\n",
    "\n",
    "r2 = scipy.stats.pearsonr(df.DPSI_PRED[pd.notnull(df.DPSI)],\n",
    "                           df.DPSI[pd.notnull(df.DPSI)])[0]**2\n",
    "\n",
    "ax.spines['bottom'].set_visible(False)\n",
    "ax.spines['left'].set_visible(False)\n",
    "ax.spines['top'].set_visible(False)\n",
    "ax.spines['right'].set_visible(False)\n",
    "ax.tick_params(size=0)\n",
    "\n",
    "if SAVEFIGS:\n",
    "    figname = 'Scatter_predictions_all_small'\n",
    "    fig.savefig(figdir+figname+'.pdf',dpi=300,bbox_inches='tight')\n",
    "    fig.savefig(figdir+figname+'.eps',dpi=300,bbox_inches='tight')\n",
    "    fig.savefig(figdir+figname+'.png',dpi=300,bbox_inches='tight')"
   ]
  },
  {
   "cell_type": "code",
   "execution_count": 15,
   "metadata": {
    "collapsed": false
   },
   "outputs": [],
   "source": [
    "# Get a list of SNPs \n",
    "# Only include SMN2 variants not SMN1\n",
    "# Filter out SMN1, because all SMN1 variants have REF_PSI>0.5,\n",
    "# while all SMN2 variants have REF_PSI<0.5\n",
    "SNPs = df[(~((df.Gene=='SMN1/2')&(df.REF_PSI>50)))&df.SNP]\n",
    "BRCA2_SNPS = SNPs[SNPs.Gene=='BRCA2']\n",
    "SMN2_SNPs = SNPs[SNPs.Gene=='SMN1/2']\n",
    "CFTR_SNPs = SNPs[SNPs.Gene=='CFTR']"
   ]
  },
  {
   "cell_type": "code",
   "execution_count": 16,
   "metadata": {
    "collapsed": false
   },
   "outputs": [
    {
     "name": "stdout",
     "output_type": "stream",
     "text": [
      "111\n",
      "19\n"
     ]
    }
   ],
   "source": [
    "print (sign(df[df.Gene=='SMN1/2'].DPSI)==sign(df[df.Gene=='SMN1/2'].DPSI_PRED)).sum()\n",
    "print (sign(df[df.Gene=='SMN1/2'].DPSI)!=sign(df[df.Gene=='SMN1/2'].DPSI_PRED)).sum()"
   ]
  },
  {
   "cell_type": "code",
   "execution_count": 17,
   "metadata": {
    "collapsed": false
   },
   "outputs": [
    {
     "data": {
      "text/plain": [
       "Gene\n",
       "BRCA2     (0.817072613096, 3.91477153913e-10)\n",
       "CFTR      (0.772097501776, 2.55944635929e-05)\n",
       "SMN1/2    (0.803802759194, 1.17211531765e-30)\n",
       "dtype: object"
      ]
     },
     "execution_count": 17,
     "metadata": {},
     "output_type": "execute_result"
    }
   ],
   "source": [
    "df.groupby('Gene').apply(lambda x:scipy.stats.pearsonr(x['DPSI_PRED'],x['DPSI']))"
   ]
  },
  {
   "cell_type": "code",
   "execution_count": 18,
   "metadata": {
    "collapsed": false
   },
   "outputs": [],
   "source": [
    "BRCA2_SPANR = pd.read_csv('../ref/BRCA2_variants_SPANR.tsv',sep='\\t',skiprows=4)\n",
    "CFTR_SPANR = pd.read_csv('../ref/CFTR_variants_SPANR.tsv',sep='\\t',skiprows=4)\n",
    "SMN2_SPANR = pd.read_csv('../ref/SMN2_variants_SPANR.tsv',sep='\\t',skiprows=4)\n",
    "# Only look at NM_017411\n",
    "SMN2_SPANR = SMN2_SPANR[SMN2_SPANR.transcript.str.contains('NM_022876')]"
   ]
  },
  {
   "cell_type": "code",
   "execution_count": 19,
   "metadata": {
    "collapsed": false
   },
   "outputs": [
    {
     "data": {
      "image/png": "[encoded data removed]",
      "text/plain": [
       "<matplotlib.figure.Figure at 0x5577450>"
      ]
     },
     "metadata": {},
     "output_type": "display_data"
    }
   ],
   "source": [
    "scaling_factor=0.8\n",
    "fig = figure(figsize=(8.5*scaling_factor,4*scaling_factor))\n",
    "ax = fig.add_subplot(122)\n",
    "colors = ['r','limegreen','b']\n",
    "i=0\n",
    "ax.scatter(BRCA2_SPANR.dPSI/100.,BRCA2_SNPS.DPSI,label='BRCA2',c='b',edgecolor='None')\n",
    "ax.scatter(CFTR_SPANR.dPSI/100.,CFTR_SNPs.DPSI,label='CFTR',c='limegreen',edgecolor='None')\n",
    "ax.scatter(SMN2_SPANR.dPSI/100.,SMN2_SNPs.DPSI,label='SMN2',c='r',edgecolor='None')\n",
    "ax.axhline(y=0,c='k')\n",
    "ax.axvline(x=0,c='k')\n",
    "ax.axis([-1,1,-1,1]);\n",
    "ax.tick_params(labelsize=fsize)\n",
    "r2 = scipy.stats.pearsonr(np.concatenate((CFTR_SPANR.dPSI.values,\n",
    "                                           BRCA2_SPANR.dPSI.values,\n",
    "                                           SMN2_SPANR.dPSI.values)),\\\n",
    "                           np.concatenate((CFTR_SNPs.DPSI.values,\n",
    "                                           BRCA2_SNPS.DPSI.values,\n",
    "                                           SMN2_SNPs.DPSI.values)))[0]**2\n",
    "ax.text(-0.9,0.8,'$R^2=%0.2f$'%r2,fontsize=fsize)\n",
    "ax.set_title('SPANR',fontsize=fsize)\n",
    "ax.set_xlabel('Predicted $\\Delta PSI$',fontsize=fsize)\n",
    "ax.spines['bottom'].set_visible(False)\n",
    "ax.spines['left'].set_visible(False)\n",
    "ax.spines['top'].set_visible(False)\n",
    "ax.spines['right'].set_visible(False)\n",
    "ax.tick_params(size=0)\n",
    "#ax.set_yticklabels([])\n",
    "leg = ax.legend(scatterpoints=1,bbox_to_anchor=(1.4,1),fontsize=fsize,handletextpad=-0.3)\n",
    "leg.get_frame().set_alpha(0)\n",
    "\n",
    "ax = fig.add_subplot(121)\n",
    "colors = ['r','limegreen','b']\n",
    "i=0\n",
    "ax.scatter(BRCA2_SNPS.DPSI_PRED,BRCA2_SNPS.DPSI,label='BRCA2',c='b',edgecolor='None')\n",
    "ax.scatter(CFTR_SNPs.DPSI_PRED,CFTR_SNPs.DPSI,label='CFTR',c='limegreen',edgecolor='None')\n",
    "ax.scatter(SMN2_SNPs.DPSI_PRED,SMN2_SNPs.DPSI,label='SMN2',c='r',edgecolor='None')\n",
    "\n",
    "ax.axhline(y=0,c='k')\n",
    "ax.axvline(x=0,c='k')\n",
    "ax.axis([-1,1,-1,1]);\n",
    "ax.tick_params(labelsize=fsize)\n",
    "r2 = scipy.stats.pearsonr(np.concatenate((CFTR_SNPs.DPSI_PRED.values,\n",
    "                                           BRCA2_SNPS.DPSI_PRED.values,\n",
    "                                           BRCA2_SNPS.DPSI_PRED.values)),\\\n",
    "                           np.concatenate((CFTR_SNPs.DPSI.values,\n",
    "                                           BRCA2_SNPS.DPSI.values,\n",
    "                                           BRCA2_SNPS.DPSI.values)))[0]**2\n",
    "ax.text(-0.9,0.8,'$R^2=%0.2f$'%r2,fontsize=fsize)\n",
    "ax.set_title('HAL',fontsize=fsize)\n",
    "ax.set_xlabel('Predicted $\\Delta PSI$',fontsize=fsize)\n",
    "ax.set_ylabel('Measured $\\Delta PSI$ (RT-PCR)',fontsize=fsize)\n",
    "ax.spines['bottom'].set_visible(False)\n",
    "ax.spines['left'].set_visible(False)\n",
    "ax.spines['top'].set_visible(False)\n",
    "ax.spines['right'].set_visible(False)\n",
    "ax.tick_params(size=0)\n",
    "if SAVEFIGS:\n",
    "    figname = 'Scatter_predictions_comparison'\n",
    "    fig.savefig(figdir+figname+'.pdf',dpi=300,bbox_inches='tight')\n",
    "    fig.savefig(figdir+figname+'.eps',dpi=300,bbox_inches='tight')\n",
    "    fig.savefig(figdir+figname+'.png',dpi=300,bbox_inches='tight')"
   ]
  },
  {
   "cell_type": "code",
   "execution_count": 20,
   "metadata": {
    "collapsed": false
   },
   "outputs": [
    {
     "name": "stdout",
     "output_type": "stream",
     "text": [
      "Accuracy: 0.897959183673 98\n"
     ]
    }
   ],
   "source": [
    "SMN2_variants = make_exon_skipping_predictions(SMN2_variants,exon_seqs)\n",
    "cutoff = 0.05\n",
    "print 'Accuracy:',mean(sign(SMN2_variants[(SMN2_variants.DPSI.abs()>cutoff)].DPSI)==\\\n",
    "           sign(SMN2_variants[(SMN2_variants.DPSI.abs()>cutoff)].DPSI_PRED)),len(SMN2_variants[(SMN2_variants.DPSI.abs()>cutoff)])"
   ]
  },
  {
   "cell_type": "code",
   "execution_count": 21,
   "metadata": {
    "collapsed": false
   },
   "outputs": [
    {
     "name": "stdout",
     "output_type": "stream",
     "text": [
      "Accuracy: 0.863636363636\n"
     ]
    }
   ],
   "source": [
    "CFTR_variants = make_exon_skipping_predictions(CFTR_variants,exon_seqs)\n",
    "cutoff = 0.05\n",
    "print 'Accuracy:',mean(sign(CFTR_variants[(CFTR_variants.DPSI.abs()>cutoff)].DPSI)==\\\n",
    "           sign(CFTR_variants[(CFTR_variants.DPSI.abs()>cutoff)].DPSI_PRED))"
   ]
  },
  {
   "cell_type": "code",
   "execution_count": 22,
   "metadata": {
    "collapsed": false
   },
   "outputs": [
    {
     "name": "stdout",
     "output_type": "stream",
     "text": [
      "Accuracy: 1.0\n"
     ]
    }
   ],
   "source": [
    "BRCA2_variants = make_exon_skipping_predictions(BRCA2_variants,exon_seqs)\n",
    "cutoff = 0.05\n",
    "print 'Accuracy:',mean(sign(BRCA2_variants[(BRCA2_variants.DPSI.abs()>cutoff)].DPSI)==\\\n",
    "           sign(BRCA2_variants[(BRCA2_variants.DPSI.abs()>cutoff)].DPSI_PRED))"
   ]
  },
  {
   "cell_type": "markdown",
   "metadata": {},
   "source": [
    "### Combine all Predictions"
   ]
  },
  {
   "cell_type": "code",
   "execution_count": 23,
   "metadata": {
    "collapsed": false
   },
   "outputs": [],
   "source": [
    "df = pd.concat((SMN2_variants,CFTR_variants,CFTR_variants))"
   ]
  },
  {
   "cell_type": "code",
   "execution_count": 24,
   "metadata": {
    "collapsed": false
   },
   "outputs": [
    {
     "name": "stdout",
     "output_type": "stream",
     "text": [
      "32 5\n"
     ]
    }
   ],
   "source": [
    "print sum((BRCA2_variants.PSI_PRED>BRCA2_variants.REF_PSI/100.)==(BRCA2_variants.DPSI>0)),\n",
    "print sum((BRCA2_variants.PSI_PRED>BRCA2_variants.REF_PSI/100.)==(BRCA2_variants.DPSI<0))"
   ]
  },
  {
   "cell_type": "code",
   "execution_count": 25,
   "metadata": {
    "collapsed": false
   },
   "outputs": [
    {
     "name": "stdout",
     "output_type": "stream",
     "text": [
      "15 0\n"
     ]
    }
   ],
   "source": [
    "BRCA2_variants_sub = BRCA2_variants[(BRCA2_variants.DPSI.abs()>0.1)]\n",
    "print sum((BRCA2_variants_sub.PSI_PRED>BRCA2_variants_sub.REF_PSI/100.)==(BRCA2_variants_sub.DPSI>0.1)),\n",
    "print sum((BRCA2_variants_sub.PSI_PRED>BRCA2_variants_sub.REF_PSI/100.)==(BRCA2_variants_sub.DPSI<-0.1))"
   ]
  },
  {
   "cell_type": "code",
   "execution_count": 26,
   "metadata": {
    "collapsed": false
   },
   "outputs": [],
   "source": [
    "SMN2_stats = {}\n",
    "SMN2_stats['correct'] = sum(sign(SMN2_variants.DPSI[SMN2_variants.DPSI.abs()>0])==sign(SMN2_variants.DPSI_PRED[SMN2_variants.DPSI.abs()>0]))\n",
    "SMN2_stats['correct'] += (SMN2_variants[:101].DPSI_PRED>0).sum()+0.0\n",
    "SMN2_stats['total'] = (SMN2_variants.DPSI.abs()>0).sum()+101.\n",
    "SMN2_stats['no_change'] = sum(SMN2_variants.DPSI==0)\n",
    "\n",
    "CFTR_stats = {}\n",
    "CFTR_stats['correct'] = sum(sign(CFTR_variants.DPSI[CFTR_variants.DPSI.abs()>0])==sign(CFTR_variants.DPSI_PRED[CFTR_variants.DPSI.abs()>0]))\n",
    "CFTR_stats['total'] = (CFTR_variants.DPSI.abs()>0).sum()+0.0\n",
    "CFTR_stats['no_change'] = sum(CFTR_variants.DPSI==0)\n",
    "\n",
    "\n",
    "BRCA2_stats = {}\n",
    "BRCA2_stats['correct'] = sum(sign(BRCA2_variants.DPSI[BRCA2_variants.DPSI.abs()>0])==sign(BRCA2_variants.DPSI_PRED[BRCA2_variants.DPSI.abs()>0]))\n",
    "BRCA2_stats['total'] = (BRCA2_variants.DPSI.abs()>0).sum()+0.0\n",
    "BRCA2_stats['no_change'] = sum(BRCA2_variants.DPSI==0)\n"
   ]
  },
  {
   "cell_type": "code",
   "execution_count": 27,
   "metadata": {
    "collapsed": false
   },
   "outputs": [
    {
     "data": {
      "image/png": "[encoded data removed]",
      "text/plain": [
       "<matplotlib.figure.Figure at 0x5b680d0>"
      ]
     },
     "metadata": {},
     "output_type": "display_data"
    }
   ],
   "source": [
    "fig = figure(figsize=(5,2.5))\n",
    "ax = fig.add_subplot(111)\n",
    "ax.barh([0,1,2],[SMN2_stats['correct']/SMN2_stats['total']*100,\n",
    "                 SMN2_stats['correct']/SMN2_stats['total']*100,\n",
    "                 BRCA2_stats['correct']/BRCA2_stats['total']*100],\n",
    "                 height=0.5,color=[0.5,0.5,0.5])\n",
    "ax.axis([0,100,-0.2,2.65])\n",
    "ax.tick_params(labelsize=fsize)\n",
    "ax.set_yticks([0.25,1.25,2.25])\n",
    "ax.set_yticklabels(['SMN2','BRCA2','CFTR'])\n",
    "ax.text(0.45*100,0.15,'%d/%d (%2.1f'%(SMN2_stats['correct'],SMN2_stats['total'],SMN2_stats['correct']/SMN2_stats['total']*100)+'%)',\n",
    "        fontsize=fsize,color='w',ha='center')\n",
    "ax.text(0.45*100,2.15,'%d/%d (%2.1f'%(CFTR_stats['correct'],CFTR_stats['total'],CFTR_stats['correct']/CFTR_stats['total']*100)+'%)',\n",
    "        fontsize=fsize,color='w',ha='center')\n",
    "ax.text(0.45*100,1.15,'%d/%d (%2.1f'%(BRCA2_stats['correct'],BRCA2_stats['total'],BRCA2_stats['correct']/BRCA2_stats['total']*100)+'%)',\n",
    "        fontsize=fsize,color='w',ha='center')\n",
    "\n",
    "ax.spines['top'].set_visible(False)\n",
    "ax.spines['right'].set_visible(False)\n",
    "ax.get_xaxis().tick_bottom()\n",
    "ax.get_yaxis().tick_left()\n",
    "ax.set_xlabel('Prediction Accuracy (%)',fontsize=fsize)\n",
    "ax.set_title('Variant Effect Predictions',fontsize=fsize)\n",
    "if True:\n",
    "    figname = 'Bar_predictions'\n",
    "    fig.savefig(figdir+figname+'.pdf',dpi=300,bbox_inches='tight')\n",
    "    fig.savefig(figdir+figname+'.eps',dpi=300,bbox_inches='tight')\n",
    "    fig.savefig(figdir+figname+'.png',dpi=300,bbox_inches='tight')"
   ]
  },
  {
   "cell_type": "markdown",
   "metadata": {},
   "source": [
    "### SMN2 SNP Plot"
   ]
  },
  {
   "cell_type": "code",
   "execution_count": 28,
   "metadata": {
    "collapsed": false
   },
   "outputs": [
    {
     "name": "stderr",
     "output_type": "stream",
     "text": [
      "/net/shendure/vol1/home/abros/VirtualEnvs/analysisenv/lib/python2.7/site-packages/ipykernel/__main__.py:15: SettingWithCopyWarning: A value is trying to be set on a copy of a slice from a DataFrame.\n",
      "Try using .loc[row_index,col_indexer] = value instead\n",
      "/net/shendure/vol1/home/abros/VirtualEnvs/analysisenv/lib/python2.7/site-packages/ipykernel/__main__.py:16: SettingWithCopyWarning: A value is trying to be set on a copy of a slice from a DataFrame.\n",
      "Try using .loc[row_index,col_indexer] = value instead\n",
      "/net/shendure/vol1/home/abros/VirtualEnvs/analysisenv/lib/python2.7/site-packages/ipykernel/__main__.py:17: SettingWithCopyWarning: A value is trying to be set on a copy of a slice from a DataFrame.\n",
      "Try using .loc[row_index,col_indexer] = value instead\n"
     ]
    }
   ],
   "source": [
    "SMN2_SNPs = SMN2_variants[SMN2_variants.SNP & pd.notnull(SMN2_variants.DPSI) & (SMN2_variants.REF_PSI<50)]\n",
    "c = 0\n",
    "muts = []\n",
    "refs = []\n",
    "positions = []\n",
    "for i in SMN2_SNPs.index:\n",
    "    pos = SMN2_SNPs.POS[i]\n",
    "    mut_seq = SMN2_exon[:pos] + SMN2_SNPs.ALT[i]+SMN2_exon[len(SMN2_SNPs.REF[i])+pos:]\n",
    "    ref_seq = SMN2_exon[:pos] + SMN2_SNPs.REF[i]+SMN2_exon[len(SMN2_SNPs.REF[i])+pos:]  \n",
    "    cur_pos = dnatools.get_snp_pos(ref_seq,mut_seq)\n",
    "    muts.append(mut_seq[cur_pos])\n",
    "    refs.append(ref_seq[cur_pos])\n",
    "    positions.append(cur_pos)\n",
    "    c+=1\n",
    "SMN2_SNPs['POS'] = positions\n",
    "SMN2_SNPs['REF'] = refs\n",
    "SMN2_SNPs['ALT'] = muts"
   ]
  },
  {
   "cell_type": "code",
   "execution_count": 29,
   "metadata": {
    "collapsed": false
   },
   "outputs": [],
   "source": [
    "thresh = 0\n",
    "grouped = SMN2_SNPs[SMN2_SNPs.DPSI.abs()>thresh].groupby(['POS','ALT']).DPSI.mean()\n",
    "grouped_pred = SMN2_SNPs[SMN2_SNPs.DPSI.abs()>thresh].groupby(['POS','ALT']).DPSI_PRED.mean()"
   ]
  },
  {
   "cell_type": "code",
   "execution_count": 30,
   "metadata": {
    "collapsed": false
   },
   "outputs": [
    {
     "data": {
      "image/png": "[encoded data removed]",
      "text/plain": [
       "<matplotlib.figure.Figure at 0x5b4afd0>"
      ]
     },
     "metadata": {},
     "output_type": "display_data"
    }
   ],
   "source": [
    "fsize=14\n",
    "head_length = 0.05\n",
    "head_width = 0.5\n",
    "arrow_height = 0.1\n",
    "\n",
    "seq = SMN2_exon[:-6]\n",
    "fig = figure(figsize=(12,2))\n",
    "ax = fig.add_subplot(111)\n",
    "ax.add_patch(Rectangle((0, 0), len(seq), 0.2, facecolor=[0.9,0.9,0.9]))\n",
    "#ax.plot([-20,0],[0.1,0.1],'k',linewidth=2)\n",
    "#ax.plot([len(seq)+0.2,len(seq)+20],[0.1,0.1],'k',linewidth=2)\n",
    "ax.plot([0, len(seq)], [0.62,0.62],c='k',linewidth=1.5)\n",
    "\n",
    "for i in range(len(SMN2_full_seq[13:])):\n",
    "    ax.text(i+0.5-10,0.1,SMN2_full_seq[13:][i],fontsize=fsize,va='center',ha='center')\n",
    "ax.set_xlim(-10,len(seq)+10)\n",
    "ax.set_ylim(-0.01,1.01)\n",
    "ax.tick_params(size=0,labelsize=fsize) # labels along the bottom edge are off\n",
    "ax.set_xticks(arange(len(seq))+0.5)\n",
    "ax.set_xticklabels([])\n",
    "ax.set_yticks([])\n",
    "box('off')\n",
    "for pos in grouped.index.levels[0]:\n",
    "    x_offset = -0.5\n",
    "    y_offset = 0.2\n",
    "    ax.text(pos-0.5,y_offset+0.01,grouped.ix[pos].abs().argmax(),fontsize=fsize,ha='center')\n",
    "    if (grouped.ix[pos][grouped.ix[pos].abs().argmax()]>0):\n",
    "        ax.arrow( pos+x_offset, 0.2+y_offset, 0.0, arrow_height, fc=\"r\", ec=\"r\",\n",
    "                 head_width=head_width, head_length=head_length )\n",
    "    else:\n",
    "        ax.arrow( pos+x_offset, 0.2+arrow_height+head_length+y_offset, 0.0, -arrow_height, fc=\"b\", ec=\"b\",\n",
    "                 head_width=head_width, head_length=head_length )\n",
    "\n",
    "    if grouped_pred.ix[pos][grouped.ix[pos].abs().argmax()]>0:\n",
    "        ax.arrow( pos+x_offset, 0.5+y_offset, 0.0, arrow_height, fc=\"r\", ec=\"r\",\n",
    "                 head_width=head_width, head_length=head_length )\n",
    "    else:\n",
    "        ax.arrow( pos+x_offset, 0.5+arrow_height+head_length+y_offset, 0.0, -arrow_height, fc=\"b\", ec=\"b\",\n",
    "                 head_width=head_width, head_length=head_length)\n",
    "\n",
    "ax.text(25,-0.4+y_offset,'Exon 7',ha='left',fontsize=fsize)\n",
    "ax.text(-10,-0.4+y_offset,'Intron 6',ha='left',fontsize=fsize)\n",
    "ax.text(56,-0.4+y_offset,'Intron 7',ha='left',fontsize=fsize)\n",
    "\n",
    "ax.text(27,0.25+y_offset,'Measured (RT-PCR)',ha='center',fontsize=fsize)\n",
    "ax.text(27,0.55+y_offset,'Predictions',ha='center',fontsize=fsize)\n",
    "\n",
    "legend_xoffset = 3\n",
    "ax.arrow(len(seq)+legend_xoffset, 0.5+0.2, 0.0, arrow_height, fc=\"r\", ec=\"r\",\n",
    "                 head_width=head_width, head_length=head_length )\n",
    "ax.text(len(seq)+legend_xoffset+1, 0.55+0.2, 'Increased Exon Inclusion',fontsize=fsize,va='center')\n",
    "ax.arrow(len(seq)+legend_xoffset, 0.0+arrow_height+head_length+y_offset+0.2, 0.0, -arrow_height, fc=\"b\", ec=\"b\",\n",
    "                 head_width=head_width, head_length=head_length)\n",
    "ax.text(len(seq)+legend_xoffset+1, 0.28+0.2, 'Decreased Exon Inclusion',fontsize=fsize,va='center')\n",
    "\n",
    "\n",
    "if SAVEFIGS:\n",
    "    figname = 'SMN2_predictions'\n",
    "    fig.savefig(figdir+figname+'.pdf',dpi=300,bbox_inches='tight')\n",
    "    fig.savefig(figdir+figname+'.eps',dpi=300,bbox_inches='tight')\n",
    "    fig.savefig(figdir+figname+'.png',dpi=300,bbox_inches='tight')"
   ]
  },
  {
   "cell_type": "markdown",
   "metadata": {},
   "source": [
    "### CFTR SNP Plot by Position"
   ]
  },
  {
   "cell_type": "code",
   "execution_count": 31,
   "metadata": {
    "collapsed": false
   },
   "outputs": [],
   "source": [
    "thresh = 0.00\n",
    "grouped = CFTR_SNPs[CFTR_SNPs.DPSI.abs()>thresh].groupby(['POS','ALT']).DPSI.mean()\n",
    "grouped_pred = CFTR_SNPs[CFTR_SNPs.DPSI.abs()>thresh].groupby(['POS','ALT']).DPSI_PRED.mean()"
   ]
  },
  {
   "cell_type": "code",
   "execution_count": 32,
   "metadata": {
    "collapsed": false
   },
   "outputs": [
    {
     "data": {
      "image/png": "[encoded data removed]",
      "text/plain": [
       "<matplotlib.figure.Figure at 0x5836050>"
      ]
     },
     "metadata": {},
     "output_type": "display_data"
    }
   ],
   "source": [
    "fsize=13\n",
    "head_length = 0.05\n",
    "head_width = 0.5\n",
    "arrow_height = 0.1\n",
    "\n",
    "seq = CFTR_exon[:-6]\n",
    "fig = figure(figsize=(14,2))\n",
    "ax = fig.add_subplot(111)\n",
    "ax.add_patch(Rectangle((0, 0), len(seq), 0.2, facecolor=[0.9,0.9,0.9]))\n",
    "ax.plot([0, len(seq)], [0.62,0.62],c='k',linewidth=1.5)\n",
    "#ax.plot([-20,0],[0.1,0.1],'k',linewidth=2)\n",
    "#ax.plot([len(seq)+0.2,len(seq)+20],[0.1,0.1],'k',linewidth=2)\n",
    "\n",
    "for i in range(len(CFTR_full_seq[5:])):\n",
    "    ax.text(i+0.5-10,0.1,CFTR_full_seq[5:][i],fontsize=fsize,va='center',ha='center')\n",
    "ax.set_xlim(-10,len(seq)+10)\n",
    "ax.set_ylim(-0.01,1.01)\n",
    "ax.tick_params(size=0,labelsize=fsize) # labels along the bottom edge are off\n",
    "ax.set_xticks(arange(len(seq))+0.5)\n",
    "ax.set_xticklabels([])\n",
    "ax.set_yticks([])\n",
    "box('off')\n",
    "for pos in grouped.index.levels[0]:\n",
    "    x_offset = -0.5\n",
    "    y_offset = 0.2\n",
    "    ax.text(pos-0.5,y_offset+0.01,grouped.ix[pos].abs().argmax(),fontsize=fsize,ha='center')\n",
    "    if (grouped.ix[pos][grouped.ix[pos].abs().argmax()]>0):\n",
    "        ax.arrow( pos+x_offset, 0.2+y_offset, 0.0, arrow_height, fc=\"r\", ec=\"r\",\n",
    "                 head_width=head_width, head_length=head_length )\n",
    "    else:\n",
    "        ax.arrow( pos+x_offset, 0.2+arrow_height+head_length+y_offset, 0.0, -arrow_height, fc=\"b\", ec=\"b\",\n",
    "                 head_width=head_width, head_length=head_length )\n",
    "\n",
    "    if grouped_pred.ix[pos][grouped.ix[pos].abs().argmax()]>0:\n",
    "        ax.arrow( pos+x_offset, 0.5+y_offset, 0.0, arrow_height, fc=\"r\", ec=\"r\",\n",
    "                 head_width=head_width, head_length=head_length )\n",
    "    else:\n",
    "        ax.arrow( pos+x_offset, 0.5+arrow_height+head_length+y_offset, 0.0, -arrow_height, fc=\"b\", ec=\"b\",\n",
    "                 head_width=head_width, head_length=head_length)\n",
    "fsize=14\n",
    "ax.text(25,-0.4+y_offset,'Exon 12',ha='left',fontsize=fsize)\n",
    "ax.text(-10,-0.4+y_offset,'Intron 11',ha='left',fontsize=fsize)\n",
    "ax.text(len(seq)+1,-0.4+y_offset,'Intron 12',ha='left',fontsize=fsize)\n",
    "\n",
    "ax.text(65,0.25+y_offset,'Measured (RT-PCR)',ha='center',fontsize=fsize)\n",
    "ax.text(65,0.55+y_offset,'Predictions',ha='center',fontsize=fsize)\n",
    "\n",
    "if True:\n",
    "    figname = 'CFTR_predictions'\n",
    "    fig.savefig(figdir+figname+'.pdf',dpi=300,bbox_inches='tight')\n",
    "    fig.savefig(figdir+figname+'.eps',dpi=300,bbox_inches='tight')\n",
    "    fig.savefig(figdir+figname+'.png',dpi=300,bbox_inches='tight')"
   ]
  },
  {
   "cell_type": "markdown",
   "metadata": {},
   "source": [
    "### BRCA2 SNP Plot by Position"
   ]
  },
  {
   "cell_type": "code",
   "execution_count": 33,
   "metadata": {
    "collapsed": false
   },
   "outputs": [],
   "source": [
    "thresh = 0.00\n",
    "grouped = BRCA2_SNPS[BRCA2_SNPS.DPSI.abs()>thresh].groupby(['POS','ALT']).DPSI.mean()\n",
    "grouped_pred = BRCA2_SNPS[BRCA2_SNPS.DPSI.abs()>thresh].groupby(['POS','ALT']).DPSI_PRED.mean()"
   ]
  },
  {
   "cell_type": "code",
   "execution_count": 34,
   "metadata": {
    "collapsed": false
   },
   "outputs": [
    {
     "data": {
      "image/png": "[encoded data removed]",
      "text/plain": [
       "<matplotlib.figure.Figure at 0x66b1f50>"
      ]
     },
     "metadata": {},
     "output_type": "display_data"
    }
   ],
   "source": [
    "fsize = 11\n",
    "head_length = 0.05\n",
    "head_width = 0.5\n",
    "arrow_height = 0.1\n",
    "\n",
    "seq = BRCA2_exon7[:-6]\n",
    "fig = figure(figsize=(14,2))\n",
    "ax = fig.add_subplot(111)\n",
    "ax.add_patch(Rectangle((0, 0), len(seq), 0.2, facecolor=[0.9,0.9,0.9]))\n",
    "ax.plot([0, len(seq)], [0.62,0.62],c='k',linewidth=1.5)\n",
    "#ax.plot([-20,0],[0.1,0.1],'k',linewidth=2)\n",
    "#ax.plot([len(seq)+0.2,len(seq)+20],[0.1,0.1],'k',linewidth=2)\n",
    "\n",
    "for i in range(len(BRCA2_full_seq[5:])):\n",
    "    ax.text(i+0.5-10,0.1,BRCA2_full_seq[5:][i],fontsize=10,va='center',ha='center')\n",
    "ax.set_xlim(-10,len(seq)+10)\n",
    "ax.set_ylim(-0.01,1.01)\n",
    "ax.tick_params(size=0,labelsize=fsize) # labels along the bottom edge are off\n",
    "ax.set_xticks(arange(len(seq))+0.5)\n",
    "ax.set_xticklabels([])\n",
    "ax.set_yticks([])\n",
    "box('off')\n",
    "for pos in grouped.index.levels[0]:\n",
    "    x_offset = -0.5\n",
    "    y_offset = 0.2\n",
    "    ax.text(pos-0.5,y_offset+0.01,grouped.ix[pos].abs().argmax(),fontsize=fsize,ha='center')\n",
    "    if (grouped.ix[pos][grouped.ix[pos].abs().argmax()]>0):\n",
    "        ax.arrow( pos+x_offset, 0.2+y_offset, 0.0, arrow_height, fc=\"r\", ec=\"r\",\n",
    "                 head_width=head_width, head_length=head_length )\n",
    "    else:\n",
    "        ax.arrow( pos+x_offset, 0.2+arrow_height+head_length+y_offset, 0.0, -arrow_height, fc=\"b\", ec=\"b\",\n",
    "                 head_width=head_width, head_length=head_length )\n",
    "\n",
    "    if grouped_pred.ix[pos][grouped.ix[pos].abs().argmax()]>0:\n",
    "        ax.arrow( pos+x_offset, 0.5+y_offset, 0.0, arrow_height, fc=\"r\", ec=\"r\",\n",
    "                 head_width=head_width, head_length=head_length )\n",
    "    else:\n",
    "        ax.arrow( pos+x_offset, 0.5+arrow_height+head_length+y_offset, 0.0, -arrow_height, fc=\"b\", ec=\"b\",\n",
    "                 head_width=head_width, head_length=head_length)\n",
    "ax.text(25,-0.4+y_offset,'Exon 7',ha='left',fontsize=fsize)\n",
    "ax.text(-10,-0.4+y_offset,'Intron 6',ha='left',fontsize=fsize)\n",
    "ax.text(len(seq)+1,-0.4+y_offset,'Intron 7',ha='left',fontsize=fsize)\n",
    "\n",
    "ax.text(len(seq)+2,0.25+y_offset,'Measured (RT-PCR)',ha='left',fontsize=fsize)\n",
    "ax.text(len(seq)+2,0.55+y_offset,'Predictions',ha='left',fontsize=fsize)\n",
    "\n",
    "if SAVEFIGS:\n",
    "    figname = 'BRCA2_predictions'\n",
    "    fig.savefig(figdir+figname+'.pdf',dpi=300,bbox_inches='tight')\n",
    "    fig.savefig(figdir+figname+'.eps',dpi=300,bbox_inches='tight')\n",
    "    fig.savefig(figdir+figname+'.png',dpi=300,bbox_inches='tight')"
   ]
  },
  {
   "cell_type": "markdown",
   "metadata": {},
   "source": [
    "### Paper Statistics:"
   ]
  },
  {
   "cell_type": "markdown",
   "metadata": {},
   "source": [
    "#### SMN1/2"
   ]
  },
  {
   "cell_type": "code",
   "execution_count": 35,
   "metadata": {
    "collapsed": false
   },
   "outputs": [
    {
     "name": "stdout",
     "output_type": "stream",
     "text": [
      "111 128 0.8671875\n",
      "0.57243885527\n"
     ]
    }
   ],
   "source": [
    "# SMN2 with RT-PCR data:\n",
    "correct = sum(sign(SMN2_variants.DPSI[SMN2_variants.DPSI.abs()>0])==sign(SMN2_variants.DPSI_PRED[SMN2_variants.DPSI.abs()>0]))\n",
    "total = SMN2_stats['total'] = (SMN2_variants.DPSI.abs()>0).sum()\n",
    "print correct,total,float(correct)/total\n",
    "print scipy.stats.pearsonr(SMN2_variants.DPSI[SMN2_variants.DPSI.abs()>=0],\n",
    "                           SMN2_variants.DPSI_PRED[SMN2_variants.DPSI.abs()>=0])[0]**2"
   ]
  },
  {
   "cell_type": "code",
   "execution_count": 36,
   "metadata": {
    "collapsed": false
   },
   "outputs": [
    {
     "data": {
      "text/plain": [
       "219"
      ]
     },
     "execution_count": 36,
     "metadata": {},
     "output_type": "execute_result"
    }
   ],
   "source": [
    "sum(SMN2_variants.REF.apply(len)==SMN2_variants.ALT.apply(len))"
   ]
  },
  {
   "cell_type": "code",
   "execution_count": 37,
   "metadata": {
    "collapsed": false
   },
   "outputs": [
    {
     "data": {
      "text/plain": [
       "1.0"
      ]
     },
     "execution_count": 37,
     "metadata": {},
     "output_type": "execute_result"
    }
   ],
   "source": [
    "inds = find(SMN2_variants.REF.apply(len)>SMN2_variants.ALT.apply(len))\n",
    "SMN2_variants.iloc[inds]\n",
    "mean(sign(SMN2_variants.iloc[inds].DPSI)==sign(SMN2_variants.iloc[inds].DPSI_PRED))"
   ]
  },
  {
   "cell_type": "code",
   "execution_count": 38,
   "metadata": {
    "collapsed": false
   },
   "outputs": [
    {
     "data": {
      "text/plain": [
       "3"
      ]
     },
     "execution_count": 38,
     "metadata": {},
     "output_type": "execute_result"
    }
   ],
   "source": [
    "inds = find(SMN2_variants.REF.apply(len)<SMN2_variants.ALT.apply(len))\n",
    "SMN2_variants.iloc[inds]\n",
    "sum(sign(SMN2_variants.iloc[inds].DPSI)==sign(SMN2_variants.iloc[inds].DPSI_PRED))"
   ]
  },
  {
   "cell_type": "code",
   "execution_count": 39,
   "metadata": {
    "collapsed": false
   },
   "outputs": [
    {
     "data": {
      "text/plain": [
       "nan"
      ]
     },
     "execution_count": 39,
     "metadata": {},
     "output_type": "execute_result"
    }
   ],
   "source": [
    "mean(sign(df[df.Gene=='BRCA2'].DPSI[df[df.Gene=='BRCA2'].DPSI.abs()>0.1])==sign(df[df.Gene=='BRCA2'].DPSI_PRED[df[df.Gene=='BRCA2'].DPSI.abs()>0.1]))"
   ]
  },
  {
   "cell_type": "code",
   "execution_count": 40,
   "metadata": {
    "collapsed": false
   },
   "outputs": [
    {
     "data": {
      "text/plain": [
       "(0,)"
      ]
     },
     "execution_count": 40,
     "metadata": {},
     "output_type": "execute_result"
    }
   ],
   "source": [
    "sign(df[df.Gene=='BRCA2'].DPSI).shape"
   ]
  },
  {
   "cell_type": "code",
   "execution_count": 41,
   "metadata": {
    "collapsed": false
   },
   "outputs": [
    {
     "data": {
      "text/plain": [
       "0"
      ]
     },
     "execution_count": 41,
     "metadata": {},
     "output_type": "execute_result"
    }
   ],
   "source": [
    "thresh = 0.05\n",
    "sum(sign(df[df.Gene=='BRCA2'].DPSI[df[df.Gene=='BRCA2'].DPSI.abs()>thresh])==sign(df[df.Gene=='BRCA2'].DPSI_PRED[df[df.Gene=='BRCA2'].DPSI.abs()>thresh]))"
   ]
  }
 ],
 "metadata": {
  "kernelspec": {
   "display_name": "Python 2",
   "language": "python",
   "name": "python2"
  },
  "language_info": {
   "codemirror_mode": {
    "name": "ipython",
    "version": 2
   },
   "file_extension": ".py",
   "mimetype": "text/x-python",
   "name": "python",
   "nbconvert_exporter": "python",
   "pygments_lexer": "ipython2",
   "version": "2.7.3"
  }
 },
 "nbformat": 4,
 "nbformat_minor": 0
}
