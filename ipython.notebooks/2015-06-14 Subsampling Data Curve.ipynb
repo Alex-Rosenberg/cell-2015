{
 "cells": [
  {
   "cell_type": "code",
   "execution_count": null,
   "metadata": {
    "collapsed": false
   },
   "outputs": [],
   "source": [
    "import pandas as pd\n",
    "import numpy as np\n",
    "from pylab import *\n",
    "import scipy.stats\n",
    "import random\n",
    "import time\n",
    "import json\n",
    "import copy\n",
    "import re\n",
    "import math\n",
    "import operator\n",
    "rc('mathtext', default='regular')\n",
    "import os\n",
    "import string\n",
    "import ast\n",
    "import scipy.io as sio\n",
    "from sklearn.metrics import roc_curve, auc\n",
    "import MLR_L2_fixed_weights\n",
    "import MLR_L1\n",
    "import scipy.ndimage\n",
    "fsize=14\n",
    "%matplotlib inline"
   ]
  },
  {
   "cell_type": "code",
   "execution_count": null,
   "metadata": {
    "collapsed": false
   },
   "outputs": [],
   "source": [
    "bases = ['A','T','C','G']\n",
    "dna_dict = dict(zip(list('ATCG'),range(4)))\n",
    "watsoncrick = {'N':'N','.':'.','C':'G','G':'C','A':'T','T':'A','*':'*'}\n",
    "def add_base(li):\n",
    "\t\t\"\"\"Used in make_mer_list to add one more base to list\"\"\"\n",
    "\t\tnew_li = []\n",
    "\t\tfor s in li:\n",
    "\t\t\tfor b in bases:\n",
    "\t\t\t\tnew_li.append(s+b)\n",
    "\t\treturn new_li\n",
    "\n",
    "def make_mer_list(mer_len):\n",
    "\t\"\"\"Makes a list of all n-mers\"\"\"\n",
    "\tli = bases\n",
    "\tfor i in range(mer_len-1):\n",
    "\t\tli = add_base(li)\n",
    "\treturn li\n",
    "\t\t\n",
    "\n",
    "def reverse_complement(seq):\n",
    "    outseq = ''\n",
    "    for s in seq:\n",
    "        outseq = watsoncrick[s] + outseq\n",
    "    return outseq"
   ]
  },
  {
   "cell_type": "code",
   "execution_count": null,
   "metadata": {
    "collapsed": false
   },
   "outputs": [],
   "source": [
    "result_dir = '../results/20150614.Subsampling/'\n",
    "#os.mkdir(result_dir)\n",
    "fig_dir = '../doc/figures/20150614.Subsampling/'\n",
    "#os.mkdir(fig_dir)"
   ]
  },
  {
   "cell_type": "code",
   "execution_count": null,
   "metadata": {
    "collapsed": false
   },
   "outputs": [],
   "source": [
    "# A5SS\n",
    "A5SS_data = sio.loadmat('../data/nobackup/A5SS/Alt_5SS_Usage_All_Cells.mat')['HEK']\n",
    "A5SS_data = np.array(A5SS_data.todense())\n",
    "A5SS_nn = find(A5SS_data.sum(axis=1))\n",
    "A5SS_data = A5SS_data[A5SS_nn]\n",
    "A5SS_data = A5SS_data/A5SS_data.sum(axis=1)[:,newaxis]\n",
    "A5SS_seqs = pd.read_csv('../data/nobackup/A5SS/Alt_5SS_Tag_to_Seq_Map.csv',index_col=0).Seq.values[A5SS_nn]"
   ]
  },
  {
   "cell_type": "code",
   "execution_count": null,
   "metadata": {
    "collapsed": false
   },
   "outputs": [],
   "source": [
    "def make_mer_matrix_no_pos(seqs,mer_len,start,end):\n",
    "    mer_dict = dict(zip(make_mer_list(mer_len),range(4**mer_len)))\n",
    "    rows,cols = [],[]\n",
    "    r = 0\n",
    "    for i in xrange(len(seqs)):\n",
    "        cur_seq = seqs[i]\n",
    "        for b in range(len(cur_seq)-mer_len+1):\n",
    "            rows.append(r)\n",
    "            cols.append(mer_dict[cur_seq[b:b+mer_len]])\n",
    "        if(r%10000)==0:\n",
    "            print r,\n",
    "        r+=1\n",
    "    vals = np.ones_like(cols)\n",
    "    rows.append(r-1)\n",
    "    cols.append(4**mer_len-1)\n",
    "    vals = np.append(vals,0)\n",
    "    X = scipy.sparse.csr_matrix((vals,(rows,cols)),dtype=np.float64)\n",
    "    return X"
   ]
  },
  {
   "cell_type": "code",
   "execution_count": null,
   "metadata": {
    "collapsed": false
   },
   "outputs": [],
   "source": [
    "X = {}\n",
    "for mer_len in range(3,8):\n",
    "    X_r1 = make_mer_matrix_no_pos(A5SS_seqs,mer_len,7-mer_len+1,32+mer_len-1)\n",
    "    X_r2 = make_mer_matrix_no_pos(A5SS_seqs,mer_len,50-mer_len+1,75+mer_len-1)\n",
    "    X[mer_len] = scipy.sparse.csr_matrix(scipy.sparse.hstack((X_r1,X_r2)))"
   ]
  },
  {
   "cell_type": "code",
   "execution_count": null,
   "metadata": {
    "collapsed": false
   },
   "outputs": [],
   "source": [
    "Y = scipy.matrix(np.array((1-A5SS_data[:,0],A5SS_data[:,0])).T)"
   ]
  },
  {
   "cell_type": "code",
   "execution_count": null,
   "metadata": {
    "collapsed": false
   },
   "outputs": [],
   "source": [
    "if False:\n",
    "    inds = range(len(A5SS_seqs))\n",
    "    shuffle(inds)\n",
    "    train_set = inds[:int(len(inds)*0.9)]\n",
    "    test_set = inds[int(len(inds)*0.9):]\n",
    "else:\n",
    "    train_set = np.loadtxt(result_dir+'training_inds').astype(int)\n",
    "    test_set = np.loadtxt(result_dir+'test_inds').astype(int)"
   ]
  },
  {
   "cell_type": "code",
   "execution_count": null,
   "metadata": {
    "collapsed": false
   },
   "outputs": [],
   "source": [
    "#np.savetxt(result_dir+'training_inds',np.array(train_set))\n",
    "#np.savetxt(result_dir+'test_inds',np.array(test_set))"
   ]
  },
  {
   "cell_type": "code",
   "execution_count": null,
   "metadata": {
    "collapsed": false
   },
   "outputs": [],
   "source": [
    "reload(MLR_L1)"
   ]
  },
  {
   "cell_type": "code",
   "execution_count": null,
   "metadata": {
    "collapsed": false
   },
   "outputs": [],
   "source": [
    "data_sizes = np.int64(10**arange(2,5.26,0.25))\n",
    "lambdas = 10**arange(-1,-9,-1.)"
   ]
  },
  {
   "cell_type": "code",
   "execution_count": null,
   "metadata": {
    "collapsed": false
   },
   "outputs": [],
   "source": [
    "model_weights = {}\n",
    "for L in lambdas:\n",
    "    model_weights[L] = {}\n",
    "    print '-----------------Lambda:',L\n",
    "    for mer_len in range(3,8):\n",
    "        model_weights[L][mer_len] = {}\n",
    "        print '-----------------mer_len:',mer_len\n",
    "        sys.stdout.flush()\n",
    "        print '-----------------Data Size:',\n",
    "        for data_size in data_sizes:\n",
    "            print data_size,\n",
    "            model_weights[L][mer_len][data_size],_,_ = MLR_L1.MLR(X[mer_len][train_set[:data_size]],\n",
    "                                                         Y[train_set[:data_size]],\n",
    "                                                         L)"
   ]
  },
  {
   "cell_type": "code",
   "execution_count": null,
   "metadata": {
    "collapsed": false
   },
   "outputs": [],
   "source": [
    "model_preds = {}\n",
    "for L in lambdas:\n",
    "    model_preds[L] = {}\n",
    "    print '-----------------Lambda:',L\n",
    "    for mer_len in range(3,8):\n",
    "        model_preds[L][mer_len] = {}\n",
    "        print '-----------------mer_len:',mer_len\n",
    "        for data_size in data_sizes:\n",
    "            print data_size,\n",
    "            model_preds[L][mer_len][data_size] = MLR_L2_fixed_weights.predict(X[mer_len][test_set],\n",
    "                                                                       model_weights[L][mer_len][data_size])\n",
    "        print ''"
   ]
  },
  {
   "cell_type": "code",
   "execution_count": null,
   "metadata": {
    "collapsed": false
   },
   "outputs": [],
   "source": [
    "R2s = {}\n",
    "for L in lambdas:\n",
    "    R2s[L] = {}\n",
    "    for mer_len in range(3,8):\n",
    "        R2s[L][mer_len] = {}\n",
    "        print '-----------------mer_len:',mer_len\n",
    "        for data_size in data_sizes:\n",
    "            R2s[L][mer_len][data_size] = scipy.stats.pearsonr(model_preds[L][mer_len][data_size][:,1],Y[test_set][:,1])[0][0]**2"
   ]
  },
  {
   "cell_type": "code",
   "execution_count": null,
   "metadata": {
    "collapsed": false
   },
   "outputs": [],
   "source": [
    "R2s = pd.Panel(R2s)"
   ]
  },
  {
   "cell_type": "code",
   "execution_count": null,
   "metadata": {
    "collapsed": false
   },
   "outputs": [],
   "source": [
    "R2s.to_pickle(result_dir+'Subsampling_R2.panel')"
   ]
  },
  {
   "cell_type": "code",
   "execution_count": null,
   "metadata": {
    "collapsed": false
   },
   "outputs": [],
   "source": [
    "R2s = pd.read_pickle(result_dir+'Subsampling_R2.panel')"
   ]
  },
  {
   "cell_type": "code",
   "execution_count": null,
   "metadata": {
    "collapsed": false
   },
   "outputs": [],
   "source": [
    "R2s.apply(max,axis=0)"
   ]
  },
  {
   "cell_type": "code",
   "execution_count": null,
   "metadata": {
    "collapsed": false
   },
   "outputs": [],
   "source": [
    "R2_maxes = R2s.apply(max,axis=0).iloc[:14]\n",
    "fig = figure(figsize=(9,4))\n",
    "ax = fig.add_subplot(111)\n",
    "markers = ['o','s','v','D','p']\n",
    "c = 0\n",
    "for col in R2_maxes.columns:\n",
    "    R2_maxes[col].plot(label=str(col)+'-mer',marker=markers[c])\n",
    "    c+=1\n",
    "#R2s.apply(max,axis=0).iloc[:14].plot(ax=ax,marker='o')\n",
    "ax.set_xscale('log')\n",
    "leg = legend([str(i)+'-mers' for i in range(3,8)],bbox_to_anchor=(1.25,1),numpoints=1,fontsize=fsize)\n",
    "leg.get_frame().set_alpha(0)\n",
    "leg.set_title('Features')\n",
    "ax.set_xlabel('Number of Training Points',fontsize=fsize)\n",
    "ax.set_ylabel('$R^2$',fontsize=fsize)\n",
    "setp(leg.get_title(),fontsize=fsize)\n",
    "ax.tick_params(labelsize=fsize)\n",
    "ax.set_xlim(90,200000)\n",
    "ax.set_title('A5SS Library Learning Curve ($SD_1$)',fontsize=fsize)\n",
    "if True:\n",
    "    figname = 'Learning_Curve'\n",
    "    fig.savefig(fig_dir+figname+'.png',bbox_inches='tight', dpi = 300)\n",
    "    fig.savefig(fig_dir+figname+'.pdf',bbox_inches='tight', dpi = 300)\n",
    "    fig.savefig(fig_dir+figname+'.eps',bbox_inches='tight', dpi = 300)"
   ]
  },
  {
   "cell_type": "code",
   "execution_count": null,
   "metadata": {
    "collapsed": false
   },
   "outputs": [],
   "source": [
    "fig = figure()\n",
    "ax = fig.add_subplot(111)\n",
    "pd.DataFrame(R2s).plot(ax=ax,marker='o')\n",
    "ax.set_xscale('log')\n",
    "leg = legend(bbox_to_anchor=(1.4,1))"
   ]
  },
  {
   "cell_type": "code",
   "execution_count": null,
   "metadata": {
    "collapsed": false
   },
   "outputs": [],
   "source": [
    "R2_0001_L1 = pd.DataFrame(R2s)\n"
   ]
  },
  {
   "cell_type": "code",
   "execution_count": null,
   "metadata": {
    "collapsed": false
   },
   "outputs": [],
   "source": [
    "R2_0001 = pd.DataFrame(R2s)"
   ]
  },
  {
   "cell_type": "code",
   "execution_count": null,
   "metadata": {
    "collapsed": false
   },
   "outputs": [],
   "source": [
    "R2_00001 = pd.DataFrame(R2s)\n"
   ]
  },
  {
   "cell_type": "code",
   "execution_count": null,
   "metadata": {
    "collapsed": false
   },
   "outputs": [],
   "source": [
    "fig = figure()\n",
    "ax = fig.add_subplot(111)\n",
    "R2_00001.plot(ax=ax,marker='o')\n",
    "ax.set_xscale('log')\n",
    "leg = legend(bbox_to_anchor=(1.4,1))\n",
    "\n",
    "R2_0001_L1.plot(ax=ax,marker='o')\n",
    "ax.set_xscale('log')\n",
    "leg = legend(bbox_to_anchor=(1.4,1))"
   ]
  },
  {
   "cell_type": "code",
   "execution_count": null,
   "metadata": {
    "collapsed": false
   },
   "outputs": [],
   "source": [
    "R2"
   ]
  }
 ],
 "metadata": {
  "kernelspec": {
   "display_name": "Python 2",
   "language": "python",
   "name": "python2"
  },
  "language_info": {
   "codemirror_mode": {
    "name": "ipython",
    "version": 2
   },
   "file_extension": ".py",
   "mimetype": "text/x-python",
   "name": "python",
   "nbconvert_exporter": "python",
   "pygments_lexer": "ipython2",
   "version": "2.7.3"
  }
 },
 "nbformat": 4,
 "nbformat_minor": 0
}
