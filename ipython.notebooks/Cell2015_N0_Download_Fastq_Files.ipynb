{
 "cells": [
  {
   "cell_type": "code",
   "execution_count": 1,
   "metadata": {
    "collapsed": true
   },
   "outputs": [],
   "source": [
    "import os"
   ]
  },
  {
   "cell_type": "markdown",
   "metadata": {},
   "source": [
    "#### Install SRA toolkit, if not installed:"
   ]
  },
  {
   "cell_type": "code",
   "execution_count": null,
   "metadata": {
    "collapsed": true
   },
   "outputs": [],
   "source": [
    "!apt-get install sra-toolkit"
   ]
  },
  {
   "cell_type": "markdown",
   "metadata": {},
   "source": [
    "#### Make a directory for the fastq files"
   ]
  },
  {
   "cell_type": "code",
   "execution_count": null,
   "metadata": {
    "collapsed": true
   },
   "outputs": [],
   "source": [
    "!mkdir ../fastq\n",
    "os.chdir('../fastq')"
   ]
  },
  {
   "cell_type": "markdown",
   "metadata": {},
   "source": [
    "#### Download SRA, convert to fastq, and rename files."
   ]
  },
  {
   "cell_type": "code",
   "execution_count": null,
   "metadata": {
    "collapsed": true
   },
   "outputs": [],
   "source": [
    "#A3SS_DNA:\n",
    "!wget ftp://ftp-trace.ncbi.nlm.nih.gov/sra/sra-instant/reads/ByExp/sra/SRX%2FSRX135%2FSRX1353954/SRR2723893/SRR2723893.sra\n",
    "!fastq-dump SRR2723893.sra --split-files\n",
    "!mv SRR2723893_1.fastq A3SS_dna_R1.fq\n",
    "!mv SRR2723893_2.fastq A3SS_dna_R2.fq\n",
    "\n",
    "#A5SS_DNA:\n",
    "!wget ftp://ftp-trace.ncbi.nlm.nih.gov/sra/sra-instant/reads/ByExp/sra/SRX%2FSRX135%2FSRX1353956/SRR2723896/SRR2723896.sra\n",
    "!fastq-dump SRR2723896.sra --split-files\n",
    "!mv SRR2723896_1.fastq A5SS_dna_R1.fq\n",
    "!mv SRR2723896_2.fastq A5SS_dna_R2.fq\n",
    "\n",
    "#A3SS_RNA:\n",
    "!wget ftp://ftp-trace.ncbi.nlm.nih.gov/sra/sra-instant/reads/ByExp/sra/SRX%2FSRX135%2FSRX1353955/SRR2723895/SRR2723895.sra\n",
    "!fastq-dump SRR2723895.sra --split-files\n",
    "!mv SRR2723895_1.fastq A3SS_rna_R1.fq\n",
    "!mv SRR2723895_2.fastq A3SS_rna_R2.fq\n",
    "#A5SS_RNA:\n",
    "!wget ftp://ftp-trace.ncbi.nlm.nih.gov/sra/sra-instant/reads/ByExp/sra/SRX%2FSRX135%2FSRX1353957/SRR2723898/SRR2723898.sra\n",
    "!fastq-dump SRR2723898.sra --split-files\n",
    "!mv SRR2723898_1.fastq A5SS_rna_R1.fq\n",
    "!mv SRR2723898_2.fastq A5SS_rna_R2.fq"
   ]
  }
 ],
 "metadata": {
  "kernelspec": {
   "display_name": "Python 2",
   "language": "python",
   "name": "python2"
  },
  "language_info": {
   "codemirror_mode": {
    "name": "ipython",
    "version": 2
   },
   "file_extension": ".py",
   "mimetype": "text/x-python",
   "name": "python",
   "nbconvert_exporter": "python",
   "pygments_lexer": "ipython2",
   "version": "2.7.3"
  }
 },
 "nbformat": 4,
 "nbformat_minor": 0
}
