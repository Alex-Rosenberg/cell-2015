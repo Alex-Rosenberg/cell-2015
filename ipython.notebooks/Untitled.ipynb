{
 "cells": [
  {
   "cell_type": "code",
   "execution_count": 1,
   "metadata": {
    "collapsed": false
   },
   "outputs": [
    {
     "name": "stderr",
     "output_type": "stream",
     "text": [
      "/net/gs/vol3/software/modules-sw-python/2.7.3/pandas/0.14.0/Linux/RHEL6/x86_64/lib/python2.7/site-packages/pandas/io/excel.py:626: UserWarning: Installed openpyxl is not supported at this time. Use >=1.6.1 and <2.0.0.\n",
      "  .format(openpyxl_compat.start_ver, openpyxl_compat.stop_ver))\n"
     ]
    }
   ],
   "source": [
    "import pandas as pd\n",
    "import numpy as np\n",
    "import scipy\n",
    "import scipy.sparse\n",
    "import scipy.stats\n",
    "import os\n",
    "import scipy.io as sio\n",
    "import dnatools\n",
    "import sklearn\n",
    "import sklearn.linear_model\n",
    "from plot_tools import effect_size\n",
    "import re\n",
    "%matplotlib inline\n",
    "from pylab import *\n",
    "\n",
    "# Plotting Params:\n",
    "rc('mathtext', default='regular')\n",
    "fsize=14"
   ]
  },
  {
   "cell_type": "code",
   "execution_count": 5,
   "metadata": {
    "collapsed": true
   },
   "outputs": [],
   "source": [
    "data = sio.loadmat('../data/Reads.mat')\n",
    "\n",
    "# A5SS\n",
    "A5SS_data = data['A5SS']\n",
    "A5SS_data = np.array(A5SS_data.todense())\n",
    "# Get minigenes with reads\n",
    "A5SS_nn = find(A5SS_data.sum(axis=1))\n",
    "A5SS_data = A5SS_data[A5SS_nn]\n",
    "A5SS_data = A5SS_data/A5SS_data.sum(axis=1)[:,newaxis]\n",
    "A5SS_seqs = pd.read_csv('../data/A5SS_Seqs.csv',index_col=0).Seq[A5SS_nn]\n"
   ]
  },
  {
   "cell_type": "code",
   "execution_count": 6,
   "metadata": {
    "collapsed": false
   },
   "outputs": [
    {
     "name": "stdout",
     "output_type": "stream",
     "text": [
      "0 10000 20000 30000\n"
     ]
    }
   ],
   "source": [
    "mer_len = 6\n",
    "X = dnatools.make_mer_matrix_no_pos(A5SS_seqs.str.slice(7,32)[:40000],mer_len)"
   ]
  },
  {
   "cell_type": "code",
   "execution_count": 7,
   "metadata": {
    "collapsed": false
   },
   "outputs": [],
   "source": [
    "Y = scipy.matrix(np.array([1-A5SS_data[:40000,0],A5SS_data[:40000,0]]).T)"
   ]
  },
  {
   "cell_type": "code",
   "execution_count": 8,
   "metadata": {
    "collapsed": false
   },
   "outputs": [],
   "source": [
    "import time\n",
    "from MLR import MLR"
   ]
  },
  {
   "cell_type": "code",
   "execution_count": 9,
   "metadata": {
    "collapsed": false
   },
   "outputs": [],
   "source": [
    "mlr = MLR(verbose=True)"
   ]
  },
  {
   "cell_type": "code",
   "execution_count": 10,
   "metadata": {
    "collapsed": false,
    "scrolled": true
   },
   "outputs": [
    {
     "name": "stdout",
     "output_type": "stream",
     "text": [
      "0.441904774385\n",
      "0.280462739079\n",
      "0.264436191871\n",
      "0.240194409155\n",
      "0.220177287515\n",
      "0.187436194679\n",
      "0.174195112332\n",
      "0.16568677871\n",
      "0.160091714405\n",
      "0.153016182385\n",
      "0.147185080396\n",
      "0.144024295272\n",
      "0.141793386806\n",
      "0.139077327803\n",
      "0.143967542495\n",
      "0.138398264867\n",
      "0.137014857804\n",
      "0.135906555345\n",
      "0.135179852487\n",
      "0.133949722462\n",
      "0.133869714995\n",
      "0.133108686555\n",
      "0.131774316069\n",
      "0.130828445744\n",
      "0.129431410383\n",
      "0.128714357279\n",
      "0.12822241541\n",
      "0.127365919847\n",
      "0.130581861101\n",
      "0.127259616929\n",
      "0.127053966438\n",
      "0.126623218551\n",
      "0.126041857061\n",
      "0.125421991297\n",
      "0.125717764004\n",
      "0.125125948901\n",
      "0.124806319601\n",
      "0.124577999764\n",
      "0.124350396239\n",
      "0.123962737051\n",
      "0.124191412487\n",
      "0.123760852846\n",
      "0.123640484514\n",
      "0.123504952266\n",
      "0.123434288912\n",
      "0.123351887838\n",
      "0.123173094638\n",
      "0.122986231686\n",
      "0.122685564357\n",
      "0.124156447716\n",
      "0.12260429721\n",
      "0.12241453512\n",
      "0.122256624182\n",
      "0.122025984287\n",
      "0.12189154625\n",
      "0.122066529588\n",
      "0.121862883305\n",
      "0.121783375208\n",
      "0.121669719818\n",
      "0.121592552132\n",
      "0.121504897136\n",
      "0.121405636649\n",
      "0.121337111666\n",
      "0.121290226585\n",
      "0.121182069256\n",
      "0.12137097256\n",
      "0.121137271405\n",
      "0.121045821829\n",
      "0.120968043399\n",
      "0.120931410569\n",
      "0.120879193838\n",
      "0.120867409323\n",
      "0.120835464688\n",
      "0.12077133799\n",
      "0.120690658773\n",
      "0.120639473063\n",
      "0.120585200662\n",
      "0.120558291213\n",
      "0.120536493255\n",
      "0.120494170002\n",
      "0.120448621556\n",
      "0.12049563545\n",
      "0.120426056673\n",
      "0.120376325789\n",
      "0.120358339706\n",
      "0.120324877276\n",
      "0.12028766761\n",
      "0.120297170238\n",
      "0.120261651888\n",
      "0.120224941293\n",
      "0.120206815567\n",
      "0.120187698485\n",
      "0.120174644596\n",
      "0.120155457081\n",
      "0.120138360722\n",
      "0.120107314607\n",
      "0.120089773563\n",
      "0.12007202939\n",
      "0.120062515933\n",
      "0.120051324489\n",
      "0.120027544691\n",
      "Failed to converge...\n",
      "3.62081503868\n"
     ]
    }
   ],
   "source": [
    "t1 = time.time()\n",
    "mlr.fit(X,Y,reg_type='L2',reg_lambda=0.000001,maxit=100)\n",
    "t2 = time.time()\n",
    "print t2-t1"
   ]
  },
  {
   "cell_type": "code",
   "execution_count": 11,
   "metadata": {
    "collapsed": false
   },
   "outputs": [],
   "source": [
    "preds = mlr.predict(X)"
   ]
  },
  {
   "cell_type": "code",
   "execution_count": 14,
   "metadata": {
    "collapsed": false
   },
   "outputs": [
    {
     "data": {
      "text/plain": [
       "0.61902386961378886"
      ]
     },
     "execution_count": 14,
     "metadata": {},
     "output_type": "execute_result"
    }
   ],
   "source": [
    "scipy.stats.pearsonr(preds[:,1],np.array(Y)[:,1])[0]**2"
   ]
  },
  {
   "cell_type": "code",
   "execution_count": null,
   "metadata": {
    "collapsed": false
   },
   "outputs": [],
   "source": [
    "scatter(np.array(preds)[:1000,1],\n",
    "        np.array(Y)[:1000,1])"
   ]
  },
  {
   "cell_type": "code",
   "execution_count": null,
   "metadata": {
    "collapsed": false
   },
   "outputs": [],
   "source": [
    "dnatools.make_mer_list(6)[mlr.W[:,1].argmax()]"
   ]
  },
  {
   "cell_type": "code",
   "execution_count": null,
   "metadata": {
    "collapsed": false
   },
   "outputs": [],
   "source": [
    "plot(mlr.W[:,1])"
   ]
  },
  {
   "cell_type": "code",
   "execution_count": null,
   "metadata": {
    "collapsed": false
   },
   "outputs": [],
   "source": [
    "_ = hist(abs(mlr.W[:,1]),bins=100)"
   ]
  },
  {
   "cell_type": "code",
   "execution_count": null,
   "metadata": {
    "collapsed": false
   },
   "outputs": [],
   "source": [
    "import MLR_L2_fixed_weights"
   ]
  },
  {
   "cell_type": "code",
   "execution_count": null,
   "metadata": {
    "collapsed": false
   },
   "outputs": [],
   "source": [
    "import time\n",
    "t1 = time.time()\n",
    "w,f,d = MLR_L2_fixed_weights.MLR(X,Y,0.0000,maxfun=100)\n",
    "t2 = time.time()\n",
    "print t2-t1"
   ]
  },
  {
   "cell_type": "code",
   "execution_count": null,
   "metadata": {
    "collapsed": false
   },
   "outputs": [],
   "source": [
    "scipy.vstack((mlr.W,mlr.b[newaxis,:]))"
   ]
  },
  {
   "cell_type": "code",
   "execution_count": null,
   "metadata": {
    "collapsed": false
   },
   "outputs": [],
   "source": [
    "dnatools.make_mer_list(6)[w[:,1].argmax()]"
   ]
  },
  {
   "cell_type": "code",
   "execution_count": null,
   "metadata": {
    "collapsed": false
   },
   "outputs": [],
   "source": [
    "preds = MLR_L2_fixed_weights.predict(X,w)"
   ]
  },
  {
   "cell_type": "code",
   "execution_count": null,
   "metadata": {
    "collapsed": false
   },
   "outputs": [],
   "source": [
    "scatter(preds[:100,1],Y[:100,1])"
   ]
  },
  {
   "cell_type": "code",
   "execution_count": null,
   "metadata": {
    "collapsed": true
   },
   "outputs": [],
   "source": []
  }
 ],
 "metadata": {
  "kernelspec": {
   "display_name": "Python 2",
   "language": "python",
   "name": "python2"
  },
  "language_info": {
   "codemirror_mode": {
    "name": "ipython",
    "version": 2
   },
   "file_extension": ".py",
   "mimetype": "text/x-python",
   "name": "python",
   "nbconvert_exporter": "python",
   "pygments_lexer": "ipython2",
   "version": "2.7.3"
  }
 },
 "nbformat": 4,
 "nbformat_minor": 0
}
