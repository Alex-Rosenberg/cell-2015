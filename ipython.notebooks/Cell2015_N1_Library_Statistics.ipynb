{
 "cells": [
  {
   "cell_type": "code",
   "execution_count": 1,
   "metadata": {
    "collapsed": false
   },
   "outputs": [
    {
     "name": "stderr",
     "output_type": "stream",
     "text": [
      "/net/gs/vol3/software/modules-sw-python/2.7.3/pandas/0.14.0/Linux/RHEL6/x86_64/lib/python2.7/site-packages/pandas/io/excel.py:626: UserWarning: Installed openpyxl is not supported at this time. Use >=1.6.1 and <2.0.0.\n",
      "  .format(openpyxl_compat.start_ver, openpyxl_compat.stop_ver))\n"
     ]
    }
   ],
   "source": [
    "import pandas as pd\n",
    "import numpy as np\n",
    "import scipy\n",
    "import scipy.sparse\n",
    "import scipy.stats\n",
    "import os\n",
    "import scipy.io as sio\n",
    "import dnatools\n",
    "from plot_tools import simpleaxis, plot_splicing_histogram\n",
    "fsize=14\n",
    "%matplotlib inline\n",
    "from pylab import *\n",
    "\n",
    "# Plotting Params:\n",
    "rc('mathtext', default='regular')\n",
    "fsize=14\n"
   ]
  },
  {
   "cell_type": "markdown",
   "metadata": {},
   "source": [
    "In this python notebook we will calculate basic statistics associated with the two splicing libraries. We will also make some of the plots from Figure 2."
   ]
  },
  {
   "cell_type": "markdown",
   "metadata": {},
   "source": [
    "### Make directory to save results:"
   ]
  },
  {
   "cell_type": "code",
   "execution_count": 2,
   "metadata": {
    "collapsed": false
   },
   "outputs": [],
   "source": [
    "resultsdir = '../results/N1_Library_Statistics/'\n",
    "if not os.path.exists(resultsdir):\n",
    "    os.makedirs(resultsdir)\n",
    "figdir = '../figures/N1_Library_Statistics/'\n",
    "if not os.path.exists(figdir):\n",
    "    os.makedirs(figdir)\n",
    "    \n",
    "#Choose if you want to actually save the plots:\n",
    "SAVEFIGS = True"
   ]
  },
  {
   "cell_type": "markdown",
   "metadata": {},
   "source": [
    "### Load Library Data:"
   ]
  },
  {
   "cell_type": "code",
   "execution_count": 3,
   "metadata": {
    "collapsed": false
   },
   "outputs": [],
   "source": [
    "data = sio.loadmat('../data/Reads.mat')\n",
    "A5SS_data = data['A5SS']\n",
    "A3SS_data = data['A3SS']\n",
    "A5SS_seqs = pd.read_csv('../data/A5SS_Seqs.csv',index_col=0)\n",
    "A3SS_seqs = pd.read_csv('../data/A3SS_Seqs.csv',index_col=0)"
   ]
  },
  {
   "cell_type": "markdown",
   "metadata": {},
   "source": [
    "### Size of Libraries:"
   ]
  },
  {
   "cell_type": "markdown",
   "metadata": {},
   "source": [
    "Lets calculate the size of the library and the percent of the library for which we have RNA reads."
   ]
  },
  {
   "cell_type": "code",
   "execution_count": 4,
   "metadata": {
    "collapsed": false
   },
   "outputs": [],
   "source": [
    "A5SS_reads_per_plasmid = np.array(A5SS_data.sum(1)).flatten()\n",
    "A3SS_reads_per_plasmid = np.array(A3SS_data.sum(1)).flatten()\n",
    "\n",
    "A5SS_nonzero_reads = A5SS_reads_per_plasmid>0\n",
    "A3SS_nonzero_reads = A3SS_reads_per_plasmid>0\n",
    "\n",
    "A5SS_num_plasmids = shape(A5SS_data)[0]\n",
    "A3SS_num_plasmids = shape(A3SS_data)[0]"
   ]
  },
  {
   "cell_type": "code",
   "execution_count": 5,
   "metadata": {
    "collapsed": false
   },
   "outputs": [
    {
     "name": "stdout",
     "output_type": "stream",
     "text": [
      "A5SS: 265044 / 265137 0.999649237941\n",
      "A3SS: 1686096 / 2211739 0.119835116169\n"
     ]
    }
   ],
   "source": [
    "print 'A5SS:', sum(A5SS_nonzero_reads),'/',A5SS_num_plasmids,sum(A5SS_nonzero_reads)/float(A5SS_num_plasmids)\n",
    "print 'A3SS:', sum(A3SS_nonzero_reads),'/',A3SS_num_plasmids,sum(A5SS_nonzero_reads)/float(A3SS_num_plasmids)"
   ]
  },
  {
   "cell_type": "markdown",
   "metadata": {},
   "source": [
    "Let's calculate how many total reads we have for each library:"
   ]
  },
  {
   "cell_type": "code",
   "execution_count": 6,
   "metadata": {
    "collapsed": false
   },
   "outputs": [
    {
     "name": "stdout",
     "output_type": "stream",
     "text": [
      "Total Reads - A5SS: 13257452\n",
      "Total Reads - A5SS: 5472487\n"
     ]
    }
   ],
   "source": [
    "print 'Total Reads - A5SS: %i' %A5SS_data.sum()\n",
    "print 'Total Reads - A5SS: %i' %A3SS_data.sum()"
   ]
  },
  {
   "cell_type": "markdown",
   "metadata": {},
   "source": [
    "While we have RNA reads for almost all 5' library members, there are many 3' library members for which we have no RNA reads. So let's check the reads/plasmid for each library:"
   ]
  },
  {
   "cell_type": "code",
   "execution_count": 7,
   "metadata": {
    "collapsed": false
   },
   "outputs": [
    {
     "name": "stdout",
     "output_type": "stream",
     "text": [
      "50.0022705243\n",
      "2.47429149642\n"
     ]
    }
   ],
   "source": [
    "# Average reads per plasmid\n",
    "A3SS_total_reads = float(A3SS_data.sum())\n",
    "A5SS_total_reads = float(A5SS_data.sum())\n",
    "print A5SS_total_reads/A5SS_num_plasmids\n",
    "print A3SS_total_reads/A3SS_num_plasmids"
   ]
  },
  {
   "cell_type": "markdown",
   "metadata": {},
   "source": [
    "### Plotting Histograms of Splice Site Usage in Each Library"
   ]
  },
  {
   "cell_type": "markdown",
   "metadata": {},
   "source": [
    "We will now get the splicing data for each isoform in the 5' library. We have defined new splice sites as those occuring 7-35nt downstream as well as 50-75nt downstream of SD1."
   ]
  },
  {
   "cell_type": "code",
   "execution_count": 8,
   "metadata": {
    "collapsed": false
   },
   "outputs": [],
   "source": [
    "# Convert Reads counts to fraction of ss usage:\n",
    "A5SS_fraction = np.array(A5SS_data.todense())\n",
    "A5SS_fraction = (A5SS_fraction.T/A5SS_fraction.sum(1)).T\n",
    "# Remove plasmids with no reads\n",
    "A5SS_fraction = A5SS_fraction[A5SS_reads_per_plasmid>0]\n",
    "\n",
    "A5_isoforms = {}\n",
    "A5_isoforms['SD_1']=A5SS_fraction[:,0]\n",
    "A5_isoforms['SD_2']=A5SS_fraction[:,44]\n",
    "A5_isoforms['SD_CRYPT']=A5SS_fraction[:,79]\n",
    "A5_isoforms['SD_NEW']=A5SS_fraction[:,7:35].sum(axis=1)+A5SS_fraction[:,50:75].sum(axis=1)\n",
    "A5_isoforms['No_SD'] = A5SS_fraction[:,303]\n",
    "#A5_isoforms = pd.DataFrame(A5_isoforms)"
   ]
  },
  {
   "cell_type": "markdown",
   "metadata": {},
   "source": [
    "Get the splicing data for each isoform in the 3' library:"
   ]
  },
  {
   "cell_type": "code",
   "execution_count": 9,
   "metadata": {
    "collapsed": false
   },
   "outputs": [],
   "source": [
    "# Get minigenes with reads\n",
    "nn = A3SS_reads_per_plasmid>0\n",
    "\n",
    "A3_isoforms = {}\n",
    "A3_isoforms['SA_1']=np.array(A3SS_data[:,235].todense()).reshape(-1).astype(np.float64)[nn]/A3SS_reads_per_plasmid[nn]\n",
    "A3_isoforms['SA_2']=np.array(A3SS_data[:,388].todense()).reshape(-1).astype(np.float64)[nn]/A3SS_reads_per_plasmid[nn]\n",
    "A3_isoforms['SA_CRYPT']=np.array(A3SS_data[:,388-16].todense()).reshape(-1).astype(np.float64)[nn]/A3SS_reads_per_plasmid[nn]\n",
    "A3_isoforms['SA_NEW']=np.array(A3SS_data[:,388-19-25:388-19].sum(axis=1)+A3SS_data[:,388+3:388+28].sum(axis=1)).reshape(-1).astype(np.float64)[nn]/A3SS_reads_per_plasmid[nn]\n",
    "A3_isoforms['No_SA']=np.array(A3SS_data[:,0].todense()).reshape(-1).astype(np.float64)[nn]/A3SS_reads_per_plasmid[nn]\n"
   ]
  },
  {
   "cell_type": "markdown",
   "metadata": {},
   "source": [
    "I've written a plotting function to make histograms of each splice site usage. It's a bit complex, but if you want to check it out its in PlotTools.plot_splicing_histogram. Lets use this to plot histograms for each splice sites. It will plot the mean usage for each site with a blue line an an indicated value:"
   ]
  },
  {
   "cell_type": "code",
   "execution_count": 10,
   "metadata": {
    "collapsed": false
   },
   "outputs": [
    {
     "data": {
      "image/png": "[encoded data removed]",
      "text/plain": [
       "<matplotlib.figure.Figure at 0x87a2290>"
      ]
     },
     "metadata": {},
     "output_type": "display_data"
    },
    {
     "data": {
      "image/png": "[encoded data removed]",
      "text/plain": [
       "<matplotlib.figure.Figure at 0x87a2250>"
      ]
     },
     "metadata": {},
     "output_type": "display_data"
    },
    {
     "data": {
      "image/png": "[encoded data removed]",
      "text/plain": [
       "<matplotlib.figure.Figure at 0x87c8e10>"
      ]
     },
     "metadata": {},
     "output_type": "display_data"
    },
    {
     "data": {
      "image/png": "[encoded data removed]",
      "text/plain": [
       "<matplotlib.figure.Figure at 0x25078490>"
      ]
     },
     "metadata": {},
     "output_type": "display_data"
    },
    {
     "data": {
      "image/png": "[encoded data removed]",
      "text/plain": [
       "<matplotlib.figure.Figure at 0xa94cfd0>"
      ]
     },
     "metadata": {},
     "output_type": "display_data"
    }
   ],
   "source": [
    "plot_splicing_histogram('SD_1','$SD_1$',A5_isoforms['SD_1'],\n",
    "                        smallplot=True,\n",
    "                        ylabel=True,\n",
    "                        figdir=figdir,\n",
    "                        save_plot=SAVEFIGS)\n",
    "plot_splicing_histogram('SD_2','$SD_2$',A5_isoforms['SD_2'],\n",
    "                        smallplot=False,\n",
    "                        figdir=figdir,\n",
    "                        save_plot=SAVEFIGS)\n",
    "plot_splicing_histogram('SD_CRYPT','$SD_{CRYPT}$',A5_isoforms['SD_CRYPT'],\n",
    "                        smallplot=True,\n",
    "                        figdir=figdir,\n",
    "                        save_plot=SAVEFIGS)\n",
    "plot_splicing_histogram('SD_NEW','$SD_{NEW}$',A5_isoforms['SD_NEW'],\n",
    "                        y_max=11,\n",
    "                        y_step=2,\n",
    "                        smallplot=True,\n",
    "                        figdir=figdir,\n",
    "                        save_plot=SAVEFIGS)\n",
    "plot_splicing_histogram('No_SD','No SD',\n",
    "                        A5_isoforms['No_SD'],\n",
    "                        y_max=11,\n",
    "                        y_step=2,\n",
    "                        smallplot=True,\n",
    "                        figdir=figdir,\n",
    "                        save_plot=SAVEFIGS)\n"
   ]
  },
  {
   "cell_type": "markdown",
   "metadata": {},
   "source": [
    "We can also use it to plot histograms for the isoforms in the 3' library:"
   ]
  },
  {
   "cell_type": "code",
   "execution_count": 11,
   "metadata": {
    "collapsed": false
   },
   "outputs": [
    {
     "data": {
      "image/png": "[encoded data removed]",
      "text/plain": [
       "<matplotlib.figure.Figure at 0xa980650>"
      ]
     },
     "metadata": {},
     "output_type": "display_data"
    },
    {
     "data": {
      "image/png": "[encoded data removed]",
      "text/plain": [
       "<matplotlib.figure.Figure at 0xa9806d0>"
      ]
     },
     "metadata": {},
     "output_type": "display_data"
    },
    {
     "data": {
      "image/png": "[encoded data removed]",
      "text/plain": [
       "<matplotlib.figure.Figure at 0x1a8f6b50>"
      ]
     },
     "metadata": {},
     "output_type": "display_data"
    },
    {
     "data": {
      "image/png": "[encoded data removed]",
      "text/plain": [
       "<matplotlib.figure.Figure at 0x24a5ec50>"
      ]
     },
     "metadata": {},
     "output_type": "display_data"
    },
    {
     "data": {
      "image/png": "[encoded data removed]",
      "text/plain": [
       "<matplotlib.figure.Figure at 0x24a89a10>"
      ]
     },
     "metadata": {},
     "output_type": "display_data"
    }
   ],
   "source": [
    "nn = A3SS_reads_per_plasmid>0\n",
    "plot_splicing_histogram('SA_1','$SA_1$',A3_isoforms['SA_1'],\n",
    "                        y_max=.050,\n",
    "                        y_step=.010,\n",
    "                        smallplot=True,\n",
    "                        ylabel=True,\n",
    "                        scale='M',\n",
    "                        figdir=figdir,\n",
    "                        save_plot=SAVEFIGS)\n",
    "plot_splicing_histogram('SA_2','$SA_2$',A3_isoforms['SA_2'],\n",
    "                        y_max=.100,\n",
    "                        y_step=.02,\n",
    "                        smallplot=True,\n",
    "                        ylabel=False,\n",
    "                        mean_pos=0.35,\n",
    "                        smallplotpos=0.33,\n",
    "                        scale='M',\n",
    "                        figdir=figdir,\n",
    "                        save_plot=SAVEFIGS)\n",
    "plot_splicing_histogram('SA_NEW','$SA_{NEW}$',A3_isoforms['SA_NEW'],\n",
    "                        y_max=.005,\n",
    "                        y_step=.001,\n",
    "                        smallplot=True,\n",
    "                        ylabel=False,\n",
    "                        scale='M',\n",
    "                        figdir=figdir,\n",
    "                        save_plot=SAVEFIGS)\n",
    "plot_splicing_histogram('SA_CRYPT','$SA_{CRYPT}$',A3_isoforms['SA_CRYPT'],\n",
    "                        y_max=.050,\n",
    "                        y_step=.010,\n",
    "                        smallplot=True,\n",
    "                        ylabel=False,\n",
    "                        scale='M',\n",
    "                        figdir=figdir,\n",
    "                        save_plot=SAVEFIGS)\n",
    "plot_splicing_histogram('No_SA','No SA',A3_isoforms['No_SA'],\n",
    "                        y_max=.050,\n",
    "                        y_step=.010,\n",
    "                        smallplot=True,\n",
    "                        ylabel=False,\n",
    "                        scale='M',\n",
    "                        figdir=figdir,\n",
    "                        save_plot=SAVEFIGS)"
   ]
  },
  {
   "cell_type": "markdown",
   "metadata": {},
   "source": [
    "### Statistics for each library in paper text"
   ]
  },
  {
   "cell_type": "markdown",
   "metadata": {},
   "source": [
    "#### A5SS:"
   ]
  },
  {
   "cell_type": "code",
   "execution_count": 12,
   "metadata": {
    "collapsed": false
   },
   "outputs": [
    {
     "name": "stdout",
     "output_type": "stream",
     "text": [
      "Percent of minigenes spliced at SD1 less than 5%: 0.493536922171 130809\n",
      "Percent of minigenes spliced at SD1 more than 95%: 0.0290706448741 7705\n"
     ]
    }
   ],
   "source": [
    "print 'Percent of minigenes spliced at SD1 less than 5%:', mean(A5_isoforms['SD_1']<0.05),\\\n",
    "                                                           sum(A5_isoforms['SD_1']<0.05)\n",
    "print 'Percent of minigenes spliced at SD1 more than 95%:', mean(A5_isoforms['SD_1']>0.95),\\\n",
    "                                                           sum(A5_isoforms['SD_1']>0.95)"
   ]
  },
  {
   "cell_type": "markdown",
   "metadata": {},
   "source": [
    "#### A3SS:"
   ]
  },
  {
   "cell_type": "markdown",
   "metadata": {},
   "source": [
    "Find how many cryptic splice sites were used between 0.00001% and 0.5% of the time:"
   ]
  },
  {
   "cell_type": "code",
   "execution_count": 13,
   "metadata": {
    "collapsed": false
   },
   "outputs": [
    {
     "name": "stdout",
     "output_type": "stream",
     "text": [
      "Number of different unique cryptic SA positions: 392\n",
      "Percentage of reads mapping to these cryptic SAs: 0.0231284240602\n"
     ]
    }
   ],
   "source": [
    "A3_fraction_by_SA = np.array(A3SS_data.sum(axis=0),dtype=np.float).flatten()/A3SS_data.sum()\n",
    "cryptic_SAs = (A3_fraction_by_SA>=1e-7) & (A3_fraction_by_SA<=5e-3)\n",
    "print 'Number of different unique cryptic SA positions:',sum(cryptic_SAs)\n",
    "print 'Percentage of reads mapping to these cryptic SAs:',A3_fraction_by_SA[cryptic_SAs].sum()"
   ]
  },
  {
   "cell_type": "code",
   "execution_count": 14,
   "metadata": {
    "collapsed": false
   },
   "outputs": [
    {
     "data": {
      "text/plain": [
       "array([0, 0, 0, ..., 0, 0, 0])"
      ]
     },
     "execution_count": 14,
     "metadata": {},
     "output_type": "execute_result"
    }
   ],
   "source": [
    "multiple_read_minigenes = find(A3SS_reads_per_plasmid>1)\n",
    "np.array(A3SS_data[multiple_read_minigenes,0].todense()).flatten()"
   ]
  },
  {
   "cell_type": "markdown",
   "metadata": {},
   "source": [
    "Find the percent of plamids with multiple reads that use SA1 100% of the time:"
   ]
  },
  {
   "cell_type": "code",
   "execution_count": 15,
   "metadata": {
    "collapsed": false
   },
   "outputs": [
    {
     "name": "stdout",
     "output_type": "stream",
     "text": [
      "0.00735002805258 8738 / 1188839\n"
     ]
    }
   ],
   "source": [
    "multiple_read_minigenes = find(A3SS_reads_per_plasmid>1)\n",
    "SA1_multiple_reads = np.array(A3SS_data[multiple_read_minigenes,235].todense(),\n",
    "                              dtype=np.float).flatten()/\\\n",
    "                     A3SS_reads_per_plasmid[multiple_read_minigenes]\n",
    "    \n",
    "print float(sum(SA1_multiple_reads==1))/len(SA1_multiple_reads),\\\n",
    "      sum(SA1_multiple_reads==1),'/',len(SA1_multiple_reads)"
   ]
  }
 ],
 "metadata": {
  "kernelspec": {
   "display_name": "Python 2",
   "language": "python",
   "name": "python2"
  },
  "language_info": {
   "codemirror_mode": {
    "name": "ipython",
    "version": 2
   },
   "file_extension": ".py",
   "mimetype": "text/x-python",
   "name": "python",
   "nbconvert_exporter": "python",
   "pygments_lexer": "ipython2",
   "version": "2.7.3"
  }
 },
 "nbformat": 4,
 "nbformat_minor": 0
}
